{
 "cells": [
  {
   "cell_type": "code",
   "execution_count": 1,
   "metadata": {},
   "outputs": [],
   "source": [
    " import nltk"
   ]
  },
  {
   "cell_type": "code",
   "execution_count": 3,
   "metadata": {},
   "outputs": [],
   "source": [
    "word =  \"Python is an interpreted high-level programming language for general-purpose programming. Created by Guido van Rossum and first released in 1991.\""
   ]
  },
  {
   "cell_type": "code",
   "execution_count": 4,
   "metadata": {},
   "outputs": [
    {
     "data": {
      "text/plain": [
       "'Python is an interpreted high-level programming language for general-purpose programming. Created by Guido van Rossum and first released in 1991.'"
      ]
     },
     "execution_count": 4,
     "metadata": {},
     "output_type": "execute_result"
    }
   ],
   "source": [
    "word"
   ]
  },
  {
   "cell_type": "code",
   "execution_count": 6,
   "metadata": {},
   "outputs": [
    {
     "name": "stdout",
     "output_type": "stream",
     "text": [
      "[nltk_data] Downloading package punkt to\n",
      "[nltk_data]     C:\\Users\\user\\AppData\\Roaming\\nltk_data...\n",
      "[nltk_data]   Unzipping tokenizers\\punkt.zip.\n"
     ]
    },
    {
     "data": {
      "text/plain": [
       "True"
      ]
     },
     "execution_count": 6,
     "metadata": {},
     "output_type": "execute_result"
    }
   ],
   "source": [
    "nltk.download('punkt')"
   ]
  },
  {
   "cell_type": "code",
   "execution_count": 7,
   "metadata": {},
   "outputs": [],
   "source": [
    "new= nltk.sent_tokenize(word)"
   ]
  },
  {
   "cell_type": "code",
   "execution_count": 8,
   "metadata": {},
   "outputs": [
    {
     "data": {
      "text/plain": [
       "['Python is an interpreted high-level programming language for general-purpose programming.',\n",
       " 'Created by Guido van Rossum and first released in 1991.']"
      ]
     },
     "execution_count": 8,
     "metadata": {},
     "output_type": "execute_result"
    }
   ],
   "source": [
    "new"
   ]
  },
  {
   "cell_type": "code",
   "execution_count": 9,
   "metadata": {},
   "outputs": [
    {
     "data": {
      "text/plain": [
       "['Python',\n",
       " 'is',\n",
       " 'an',\n",
       " 'interpreted',\n",
       " 'high-level',\n",
       " 'programming',\n",
       " 'language',\n",
       " 'for',\n",
       " 'general-purpose',\n",
       " 'programming',\n",
       " '.',\n",
       " 'Created',\n",
       " 'by',\n",
       " 'Guido',\n",
       " 'van',\n",
       " 'Rossum',\n",
       " 'and',\n",
       " 'first',\n",
       " 'released',\n",
       " 'in',\n",
       " '1991',\n",
       " '.']"
      ]
     },
     "execution_count": 9,
     "metadata": {},
     "output_type": "execute_result"
    }
   ],
   "source": [
    "nltk.word_tokenize(word)"
   ]
  },
  {
   "cell_type": "code",
   "execution_count": 10,
   "metadata": {},
   "outputs": [],
   "source": [
    "tokens = nltk.word_tokenize(word)"
   ]
  },
  {
   "cell_type": "code",
   "execution_count": 11,
   "metadata": {},
   "outputs": [
    {
     "data": {
      "text/plain": [
       "['Python',\n",
       " 'is',\n",
       " 'an',\n",
       " 'interpreted',\n",
       " 'high-level',\n",
       " 'programming',\n",
       " 'language',\n",
       " 'for',\n",
       " 'general-purpose',\n",
       " 'programming',\n",
       " '.',\n",
       " 'Created',\n",
       " 'by',\n",
       " 'Guido',\n",
       " 'van',\n",
       " 'Rossum',\n",
       " 'and',\n",
       " 'first',\n",
       " 'released',\n",
       " 'in',\n",
       " '1991',\n",
       " '.']"
      ]
     },
     "execution_count": 11,
     "metadata": {},
     "output_type": "execute_result"
    }
   ],
   "source": [
    "tokens\n"
   ]
  },
  {
   "cell_type": "code",
   "execution_count": 12,
   "metadata": {},
   "outputs": [
    {
     "data": {
      "text/plain": [
       "['is', 'an', 'interpreted', 'high-level']"
      ]
     },
     "execution_count": 12,
     "metadata": {},
     "output_type": "execute_result"
    }
   ],
   "source": [
    "tokens[1:5]"
   ]
  },
  {
   "cell_type": "code",
   "execution_count": 13,
   "metadata": {},
   "outputs": [
    {
     "data": {
      "text/plain": [
       "['Python',\n",
       " 'is',\n",
       " 'an',\n",
       " 'interpreted',\n",
       " 'high-level',\n",
       " 'programming',\n",
       " 'language',\n",
       " 'for',\n",
       " 'general-purpose',\n",
       " 'programming',\n",
       " '.',\n",
       " 'Created',\n",
       " 'by',\n",
       " 'Guido',\n",
       " 'van',\n",
       " 'Rossum',\n",
       " 'and',\n",
       " 'first',\n",
       " 'released',\n",
       " 'in',\n",
       " '1991',\n",
       " '.']"
      ]
     },
     "execution_count": 13,
     "metadata": {},
     "output_type": "execute_result"
    }
   ],
   "source": [
    "tokens[:]"
   ]
  },
  {
   "cell_type": "code",
   "execution_count": 14,
   "metadata": {},
   "outputs": [
    {
     "data": {
      "text/plain": [
       "['Python', 'is', 'an', 'interpreted']"
      ]
     },
     "execution_count": 14,
     "metadata": {},
     "output_type": "execute_result"
    }
   ],
   "source": [
    "tokens[:4]"
   ]
  },
  {
   "cell_type": "code",
   "execution_count": 16,
   "metadata": {},
   "outputs": [
    {
     "data": {
      "text/plain": [
       "['high-level',\n",
       " 'programming',\n",
       " 'language',\n",
       " 'for',\n",
       " 'general-purpose',\n",
       " 'programming',\n",
       " '.',\n",
       " 'Created',\n",
       " 'by',\n",
       " 'Guido',\n",
       " 'van',\n",
       " 'Rossum',\n",
       " 'and',\n",
       " 'first',\n",
       " 'released',\n",
       " 'in',\n",
       " '1991',\n",
       " '.']"
      ]
     },
     "execution_count": 16,
     "metadata": {},
     "output_type": "execute_result"
    }
   ],
   "source": [
    "tokens[4:]"
   ]
  },
  {
   "cell_type": "code",
   "execution_count": null,
   "metadata": {},
   "outputs": [],
   "source": []
  },
  {
   "cell_type": "code",
   "execution_count": 21,
   "metadata": {},
   "outputs": [],
   "source": [
    "wordfreq = nltk.FreqDist(tokens)"
   ]
  },
  {
   "cell_type": "code",
   "execution_count": 22,
   "metadata": {},
   "outputs": [
    {
     "data": {
      "text/plain": [
       "FreqDist({'programming': 2, '.': 2, 'Python': 1, 'is': 1, 'an': 1, 'interpreted': 1, 'high-level': 1, 'language': 1, 'for': 1, 'general-purpose': 1, ...})"
      ]
     },
     "execution_count": 22,
     "metadata": {},
     "output_type": "execute_result"
    }
   ],
   "source": [
    "wordfreq"
   ]
  },
  {
   "cell_type": "code",
   "execution_count": 23,
   "metadata": {},
   "outputs": [
    {
     "data": {
      "text/plain": [
       "nltk.probability.FreqDist"
      ]
     },
     "execution_count": 23,
     "metadata": {},
     "output_type": "execute_result"
    }
   ],
   "source": [
    "type(wordfreq)"
   ]
  },
  {
   "cell_type": "code",
   "execution_count": 26,
   "metadata": {},
   "outputs": [
    {
     "data": {
      "text/plain": [
       "[('programming', 2), ('.', 2)]"
      ]
     },
     "execution_count": 26,
     "metadata": {},
     "output_type": "execute_result"
    }
   ],
   "source": [
    "wordfreq.most_common(2)"
   ]
  },
  {
   "cell_type": "code",
   "execution_count": 28,
   "metadata": {},
   "outputs": [
    {
     "name": "stdout",
     "output_type": "stream",
     "text": [
      "[nltk_data] Downloading collection 'book'\n",
      "[nltk_data]    | \n",
      "[nltk_data]    | Downloading package abc to\n",
      "[nltk_data]    |     C:\\Users\\user\\AppData\\Roaming\\nltk_data...\n",
      "[nltk_data]    |   Unzipping corpora\\abc.zip.\n",
      "[nltk_data]    | Downloading package brown to\n",
      "[nltk_data]    |     C:\\Users\\user\\AppData\\Roaming\\nltk_data...\n",
      "[nltk_data]    |   Unzipping corpora\\brown.zip.\n",
      "[nltk_data]    | Downloading package chat80 to\n",
      "[nltk_data]    |     C:\\Users\\user\\AppData\\Roaming\\nltk_data...\n",
      "[nltk_data]    |   Unzipping corpora\\chat80.zip.\n",
      "[nltk_data]    | Downloading package cmudict to\n",
      "[nltk_data]    |     C:\\Users\\user\\AppData\\Roaming\\nltk_data...\n",
      "[nltk_data]    |   Unzipping corpora\\cmudict.zip.\n",
      "[nltk_data]    | Downloading package conll2000 to\n",
      "[nltk_data]    |     C:\\Users\\user\\AppData\\Roaming\\nltk_data...\n",
      "[nltk_data]    |   Unzipping corpora\\conll2000.zip.\n",
      "[nltk_data]    | Downloading package conll2002 to\n",
      "[nltk_data]    |     C:\\Users\\user\\AppData\\Roaming\\nltk_data...\n",
      "[nltk_data]    |   Unzipping corpora\\conll2002.zip.\n",
      "[nltk_data]    | Downloading package dependency_treebank to\n",
      "[nltk_data]    |     C:\\Users\\user\\AppData\\Roaming\\nltk_data...\n",
      "[nltk_data]    |   Unzipping corpora\\dependency_treebank.zip.\n",
      "[nltk_data]    | Downloading package genesis to\n",
      "[nltk_data]    |     C:\\Users\\user\\AppData\\Roaming\\nltk_data...\n",
      "[nltk_data]    |   Unzipping corpora\\genesis.zip.\n",
      "[nltk_data]    | Downloading package gutenberg to\n",
      "[nltk_data]    |     C:\\Users\\user\\AppData\\Roaming\\nltk_data...\n",
      "[nltk_data]    |   Unzipping corpora\\gutenberg.zip.\n",
      "[nltk_data]    | Downloading package ieer to\n",
      "[nltk_data]    |     C:\\Users\\user\\AppData\\Roaming\\nltk_data...\n",
      "[nltk_data]    |   Unzipping corpora\\ieer.zip.\n",
      "[nltk_data]    | Downloading package inaugural to\n",
      "[nltk_data]    |     C:\\Users\\user\\AppData\\Roaming\\nltk_data...\n",
      "[nltk_data]    |   Unzipping corpora\\inaugural.zip.\n",
      "[nltk_data]    | Downloading package movie_reviews to\n",
      "[nltk_data]    |     C:\\Users\\user\\AppData\\Roaming\\nltk_data...\n",
      "[nltk_data]    |   Unzipping corpora\\movie_reviews.zip.\n",
      "[nltk_data]    | Downloading package nps_chat to\n",
      "[nltk_data]    |     C:\\Users\\user\\AppData\\Roaming\\nltk_data...\n",
      "[nltk_data]    |   Unzipping corpora\\nps_chat.zip.\n",
      "[nltk_data]    | Downloading package names to\n",
      "[nltk_data]    |     C:\\Users\\user\\AppData\\Roaming\\nltk_data...\n",
      "[nltk_data]    |   Unzipping corpora\\names.zip.\n",
      "[nltk_data]    | Downloading package ppattach to\n",
      "[nltk_data]    |     C:\\Users\\user\\AppData\\Roaming\\nltk_data...\n",
      "[nltk_data]    |   Unzipping corpora\\ppattach.zip.\n",
      "[nltk_data]    | Downloading package reuters to\n",
      "[nltk_data]    |     C:\\Users\\user\\AppData\\Roaming\\nltk_data...\n",
      "[nltk_data]    | Downloading package senseval to\n",
      "[nltk_data]    |     C:\\Users\\user\\AppData\\Roaming\\nltk_data...\n",
      "[nltk_data]    |   Unzipping corpora\\senseval.zip.\n",
      "[nltk_data]    | Downloading package state_union to\n",
      "[nltk_data]    |     C:\\Users\\user\\AppData\\Roaming\\nltk_data...\n",
      "[nltk_data]    |   Unzipping corpora\\state_union.zip.\n",
      "[nltk_data]    | Downloading package stopwords to\n",
      "[nltk_data]    |     C:\\Users\\user\\AppData\\Roaming\\nltk_data...\n",
      "[nltk_data]    |   Unzipping corpora\\stopwords.zip.\n",
      "[nltk_data]    | Downloading package swadesh to\n",
      "[nltk_data]    |     C:\\Users\\user\\AppData\\Roaming\\nltk_data...\n",
      "[nltk_data]    |   Unzipping corpora\\swadesh.zip.\n",
      "[nltk_data]    | Downloading package timit to\n",
      "[nltk_data]    |     C:\\Users\\user\\AppData\\Roaming\\nltk_data...\n",
      "[nltk_data]    |   Unzipping corpora\\timit.zip.\n",
      "[nltk_data]    | Downloading package treebank to\n",
      "[nltk_data]    |     C:\\Users\\user\\AppData\\Roaming\\nltk_data...\n",
      "[nltk_data]    |   Unzipping corpora\\treebank.zip.\n",
      "[nltk_data]    | Downloading package toolbox to\n",
      "[nltk_data]    |     C:\\Users\\user\\AppData\\Roaming\\nltk_data...\n",
      "[nltk_data]    |   Unzipping corpora\\toolbox.zip.\n",
      "[nltk_data]    | Downloading package udhr to\n",
      "[nltk_data]    |     C:\\Users\\user\\AppData\\Roaming\\nltk_data...\n",
      "[nltk_data]    |   Unzipping corpora\\udhr.zip.\n",
      "[nltk_data]    | Downloading package udhr2 to\n",
      "[nltk_data]    |     C:\\Users\\user\\AppData\\Roaming\\nltk_data...\n",
      "[nltk_data]    |   Unzipping corpora\\udhr2.zip.\n",
      "[nltk_data]    | Downloading package unicode_samples to\n",
      "[nltk_data]    |     C:\\Users\\user\\AppData\\Roaming\\nltk_data...\n",
      "[nltk_data]    |   Unzipping corpora\\unicode_samples.zip.\n",
      "[nltk_data]    | Downloading package webtext to\n",
      "[nltk_data]    |     C:\\Users\\user\\AppData\\Roaming\\nltk_data...\n",
      "[nltk_data]    |   Unzipping corpora\\webtext.zip.\n",
      "[nltk_data]    | Downloading package wordnet to\n",
      "[nltk_data]    |     C:\\Users\\user\\AppData\\Roaming\\nltk_data...\n",
      "[nltk_data]    |   Unzipping corpora\\wordnet.zip.\n",
      "[nltk_data]    | Downloading package wordnet_ic to\n",
      "[nltk_data]    |     C:\\Users\\user\\AppData\\Roaming\\nltk_data...\n",
      "[nltk_data]    |   Unzipping corpora\\wordnet_ic.zip.\n",
      "[nltk_data]    | Downloading package words to\n",
      "[nltk_data]    |     C:\\Users\\user\\AppData\\Roaming\\nltk_data...\n",
      "[nltk_data]    |   Unzipping corpora\\words.zip.\n",
      "[nltk_data]    | Downloading package maxent_treebank_pos_tagger to\n",
      "[nltk_data]    |     C:\\Users\\user\\AppData\\Roaming\\nltk_data...\n",
      "[nltk_data]    |   Unzipping taggers\\maxent_treebank_pos_tagger.zip.\n",
      "[nltk_data]    | Downloading package maxent_ne_chunker to\n",
      "[nltk_data]    |     C:\\Users\\user\\AppData\\Roaming\\nltk_data...\n",
      "[nltk_data]    |   Unzipping chunkers\\maxent_ne_chunker.zip.\n",
      "[nltk_data]    | Downloading package universal_tagset to\n",
      "[nltk_data]    |     C:\\Users\\user\\AppData\\Roaming\\nltk_data...\n",
      "[nltk_data]    |   Unzipping taggers\\universal_tagset.zip.\n",
      "[nltk_data]    | Downloading package punkt to\n",
      "[nltk_data]    |     C:\\Users\\user\\AppData\\Roaming\\nltk_data...\n",
      "[nltk_data]    |   Package punkt is already up-to-date!\n",
      "[nltk_data]    | Downloading package book_grammars to\n",
      "[nltk_data]    |     C:\\Users\\user\\AppData\\Roaming\\nltk_data...\n",
      "[nltk_data]    |   Unzipping grammars\\book_grammars.zip.\n",
      "[nltk_data]    | Downloading package city_database to\n",
      "[nltk_data]    |     C:\\Users\\user\\AppData\\Roaming\\nltk_data...\n",
      "[nltk_data]    |   Unzipping corpora\\city_database.zip.\n",
      "[nltk_data]    | Downloading package tagsets to\n",
      "[nltk_data]    |     C:\\Users\\user\\AppData\\Roaming\\nltk_data...\n",
      "[nltk_data]    |   Unzipping help\\tagsets.zip.\n",
      "[nltk_data]    | Downloading package panlex_swadesh to\n",
      "[nltk_data]    |     C:\\Users\\user\\AppData\\Roaming\\nltk_data...\n",
      "[nltk_data]    | Downloading package averaged_perceptron_tagger to\n",
      "[nltk_data]    |     C:\\Users\\user\\AppData\\Roaming\\nltk_data...\n",
      "[nltk_data]    |   Unzipping taggers\\averaged_perceptron_tagger.zip.\n",
      "[nltk_data]    | \n",
      "[nltk_data]  Done downloading collection book\n"
     ]
    },
    {
     "data": {
      "text/plain": [
       "True"
      ]
     },
     "execution_count": 28,
     "metadata": {},
     "output_type": "execute_result"
    }
   ],
   "source": [
    "nltk.download('book')"
   ]
  },
  {
   "cell_type": "code",
   "execution_count": 29,
   "metadata": {},
   "outputs": [
    {
     "name": "stdout",
     "output_type": "stream",
     "text": [
      "*** Introductory Examples for the NLTK Book ***\n",
      "Loading text1, ..., text9 and sent1, ..., sent9\n",
      "Type the name of the text or sentence to view it.\n",
      "Type: 'texts()' or 'sents()' to list the materials.\n",
      "text1: Moby Dick by Herman Melville 1851\n",
      "text2: Sense and Sensibility by Jane Austen 1811\n",
      "text3: The Book of Genesis\n",
      "text4: Inaugural Address Corpus\n",
      "text5: Chat Corpus\n",
      "text6: Monty Python and the Holy Grail\n",
      "text7: Wall Street Journal\n",
      "text8: Personals Corpus\n",
      "text9: The Man Who Was Thursday by G . K . Chesterton 1908\n"
     ]
    }
   ],
   "source": [
    "from nltk.book import *"
   ]
  },
  {
   "cell_type": "code",
   "execution_count": 30,
   "metadata": {},
   "outputs": [
    {
     "data": {
      "text/plain": [
       "nltk.text.Text"
      ]
     },
     "execution_count": 30,
     "metadata": {},
     "output_type": "execute_result"
    }
   ],
   "source": [
    "type(text1)"
   ]
  },
  {
   "cell_type": "code",
   "execution_count": 34,
   "metadata": {},
   "outputs": [
    {
     "name": "stdout",
     "output_type": "stream",
     "text": [
      "triangular; triangular; triangular; triangular\n"
     ]
    }
   ],
   "source": [
    "text1.findall(\"<tri.*r>\")"
   ]
  },
  {
   "cell_type": "code",
   "execution_count": null,
   "metadata": {},
   "outputs": [],
   "source": []
  },
  {
   "cell_type": "code",
   "execution_count": 35,
   "metadata": {},
   "outputs": [
    {
     "data": {
      "text/plain": [
       "260819"
      ]
     },
     "execution_count": 35,
     "metadata": {},
     "output_type": "execute_result"
    }
   ],
   "source": [
    "len(text1)"
   ]
  },
  {
   "cell_type": "code",
   "execution_count": 49,
   "metadata": {},
   "outputs": [
    {
     "data": {
      "text/plain": [
       "19317"
      ]
     },
     "execution_count": 49,
     "metadata": {},
     "output_type": "execute_result"
    }
   ],
   "source": [
    "len(set(text1))"
   ]
  },
  {
   "cell_type": "code",
   "execution_count": 57,
   "metadata": {},
   "outputs": [
    {
     "ename": "AttributeError",
     "evalue": "'builtin_function_or_method' object has no attribute 'lower'",
     "output_type": "error",
     "traceback": [
      "\u001b[1;31m---------------------------------------------------------------------------\u001b[0m",
      "\u001b[1;31mAttributeError\u001b[0m                            Traceback (most recent call last)",
      "\u001b[1;32m<ipython-input-57-ebda5e760fd1>\u001b[0m in \u001b[0;36m<module>\u001b[1;34m()\u001b[0m\n\u001b[1;32m----> 1\u001b[1;33m \u001b[0mtext2\u001b[0m\u001b[1;33m=\u001b[0m \u001b[1;33m[\u001b[0m \u001b[0mword\u001b[0m\u001b[1;33m.\u001b[0m\u001b[0mlower\u001b[0m\u001b[1;33m(\u001b[0m\u001b[1;33m)\u001b[0m \u001b[1;32mfor\u001b[0m \u001b[0mword\u001b[0m \u001b[1;32min\u001b[0m \u001b[0mset\u001b[0m\u001b[1;33m(\u001b[0m\u001b[0mtext1\u001b[0m\u001b[1;33m)\u001b[0m\u001b[1;33m]\u001b[0m\u001b[1;33m\u001b[0m\u001b[0m\n\u001b[0m",
      "\u001b[1;32m<ipython-input-57-ebda5e760fd1>\u001b[0m in \u001b[0;36m<listcomp>\u001b[1;34m(.0)\u001b[0m\n\u001b[1;32m----> 1\u001b[1;33m \u001b[0mtext2\u001b[0m\u001b[1;33m=\u001b[0m \u001b[1;33m[\u001b[0m \u001b[0mword\u001b[0m\u001b[1;33m.\u001b[0m\u001b[0mlower\u001b[0m\u001b[1;33m(\u001b[0m\u001b[1;33m)\u001b[0m \u001b[1;32mfor\u001b[0m \u001b[0mword\u001b[0m \u001b[1;32min\u001b[0m \u001b[0mset\u001b[0m\u001b[1;33m(\u001b[0m\u001b[0mtext1\u001b[0m\u001b[1;33m)\u001b[0m\u001b[1;33m]\u001b[0m\u001b[1;33m\u001b[0m\u001b[0m\n\u001b[0m",
      "\u001b[1;31mAttributeError\u001b[0m: 'builtin_function_or_method' object has no attribute 'lower'"
     ]
    }
   ],
   "source": [
    "text2= [ word.lower() for word in set(text1)]"
   ]
  },
  {
   "cell_type": "code",
   "execution_count": 56,
   "metadata": {},
   "outputs": [],
   "source": [
    "text1=set(text)"
   ]
  },
  {
   "cell_type": "code",
   "execution_count": 44,
   "metadata": {},
   "outputs": [
    {
     "data": {
      "text/plain": [
       "list"
      ]
     },
     "execution_count": 44,
     "metadata": {},
     "output_type": "execute_result"
    }
   ],
   "source": [
    "type(text)"
   ]
  },
  {
   "cell_type": "code",
   "execution_count": 66,
   "metadata": {},
   "outputs": [
    {
     "data": {
      "text/plain": [
       "19317"
      ]
     },
     "execution_count": 66,
     "metadata": {},
     "output_type": "execute_result"
    }
   ],
   "source": [
    "len(set(text))"
   ]
  },
  {
   "cell_type": "code",
   "execution_count": 69,
   "metadata": {},
   "outputs": [
    {
     "data": {
      "text/plain": [
       "<Text: The Book of Genesis>"
      ]
     },
     "execution_count": 69,
     "metadata": {},
     "output_type": "execute_result"
    }
   ],
   "source": [
    "text3"
   ]
  },
  {
   "cell_type": "code",
   "execution_count": 70,
   "metadata": {},
   "outputs": [
    {
     "data": {
      "text/plain": [
       "<Text: Inaugural Address Corpus>"
      ]
     },
     "execution_count": 70,
     "metadata": {},
     "output_type": "execute_result"
    }
   ],
   "source": [
    "text4"
   ]
  },
  {
   "cell_type": "code",
   "execution_count": 71,
   "metadata": {},
   "outputs": [
    {
     "data": {
      "text/plain": [
       "149797"
      ]
     },
     "execution_count": 71,
     "metadata": {},
     "output_type": "execute_result"
    }
   ],
   "source": [
    "len(text4)"
   ]
  },
  {
   "cell_type": "code",
   "execution_count": 72,
   "metadata": {},
   "outputs": [
    {
     "data": {
      "text/plain": [
       "nltk.text.Text"
      ]
     },
     "execution_count": 72,
     "metadata": {},
     "output_type": "execute_result"
    }
   ],
   "source": [
    "type(text4)"
   ]
  },
  {
   "cell_type": "code",
   "execution_count": 73,
   "metadata": {},
   "outputs": [
    {
     "data": {
      "text/plain": [
       "'Fellow'"
      ]
     },
     "execution_count": 73,
     "metadata": {},
     "output_type": "execute_result"
    }
   ],
   "source": [
    "text4[0]"
   ]
  },
  {
   "cell_type": "code",
   "execution_count": 74,
   "metadata": {},
   "outputs": [
    {
     "data": {
      "text/plain": [
       "149797"
      ]
     },
     "execution_count": 74,
     "metadata": {},
     "output_type": "execute_result"
    }
   ],
   "source": [
    "len(text4)"
   ]
  },
  {
   "cell_type": "code",
   "execution_count": 75,
   "metadata": {},
   "outputs": [
    {
     "data": {
      "text/plain": [
       "9913"
      ]
     },
     "execution_count": 75,
     "metadata": {},
     "output_type": "execute_result"
    }
   ],
   "source": [
    "len(set(text4))"
   ]
  },
  {
   "cell_type": "code",
   "execution_count": 76,
   "metadata": {},
   "outputs": [],
   "source": [
    "k = [word.lower() for word in text4]"
   ]
  },
  {
   "cell_type": "code",
   "execution_count": 77,
   "metadata": {},
   "outputs": [
    {
     "data": {
      "text/plain": [
       "'fellow'"
      ]
     },
     "execution_count": 77,
     "metadata": {},
     "output_type": "execute_result"
    }
   ],
   "source": [
    "k[0]"
   ]
  },
  {
   "cell_type": "code",
   "execution_count": 78,
   "metadata": {},
   "outputs": [
    {
     "data": {
      "text/plain": [
       "9216"
      ]
     },
     "execution_count": 78,
     "metadata": {},
     "output_type": "execute_result"
    }
   ],
   "source": [
    "len(set(k))"
   ]
  },
  {
   "cell_type": "code",
   "execution_count": 125,
   "metadata": {},
   "outputs": [],
   "source": [
    "coverage=len(text6)/len(set(text6))"
   ]
  },
  {
   "cell_type": "code",
   "execution_count": 126,
   "metadata": {},
   "outputs": [
    {
     "data": {
      "text/plain": [
       "7.833333333333333"
      ]
     },
     "execution_count": 126,
     "metadata": {},
     "output_type": "execute_result"
    }
   ],
   "source": [
    "coverage"
   ]
  },
  {
   "cell_type": "code",
   "execution_count": 118,
   "metadata": {},
   "outputs": [],
   "source": [
    "big_words = [word.upper() for word in set(text6) if len(word) > 13 ]"
   ]
  },
  {
   "cell_type": "code",
   "execution_count": 119,
   "metadata": {},
   "outputs": [
    {
     "data": {
      "text/plain": [
       "[]"
      ]
     },
     "execution_count": 119,
     "metadata": {},
     "output_type": "execute_result"
    }
   ],
   "source": [
    "big_words"
   ]
  },
  {
   "cell_type": "code",
   "execution_count": 99,
   "metadata": {},
   "outputs": [],
   "source": [
    "wor = [ word for word in set(text4) if word.startswith('E')]"
   ]
  },
  {
   "cell_type": "code",
   "execution_count": 100,
   "metadata": {},
   "outputs": [
    {
     "data": {
      "text/plain": [
       "['Equal',\n",
       " 'Everyone',\n",
       " 'Establishment',\n",
       " 'European',\n",
       " 'Egypt',\n",
       " 'Economic',\n",
       " 'Elected',\n",
       " 'Eight',\n",
       " 'Executive',\n",
       " 'ENFORCEMENT',\n",
       " 'Equally',\n",
       " 'Expenditure',\n",
       " 'English',\n",
       " 'East',\n",
       " 'Each',\n",
       " 'Equality',\n",
       " 'Eisenhower',\n",
       " 'ELECTION',\n",
       " 'Especially',\n",
       " 'Enough',\n",
       " 'EIGHTEENTH',\n",
       " 'Entering',\n",
       " 'Everywhere',\n",
       " 'Emperor',\n",
       " 'Employed',\n",
       " 'Ever',\n",
       " 'Endowed',\n",
       " 'Existing',\n",
       " 'Encountering',\n",
       " 'Encouraging',\n",
       " 'Experience',\n",
       " 'EDUCATION',\n",
       " 'Enterprises',\n",
       " 'Experiencing',\n",
       " 'Every',\n",
       " 'Earth',\n",
       " 'Emerson',\n",
       " 'Ending',\n",
       " 'Eventually',\n",
       " 'Envy',\n",
       " 'Events',\n",
       " 'Even',\n",
       " 'Engineers',\n",
       " 'Economy',\n",
       " 'England',\n",
       " 'Europe',\n",
       " 'Eve']"
      ]
     },
     "execution_count": 100,
     "metadata": {},
     "output_type": "execute_result"
    }
   ],
   "source": [
    "wor"
   ]
  },
  {
   "cell_type": "code",
   "execution_count": 109,
   "metadata": {},
   "outputs": [],
   "source": [
    "text = nltk.FreqDist(text6)"
   ]
  },
  {
   "cell_type": "code",
   "execution_count": 110,
   "metadata": {},
   "outputs": [
    {
     "data": {
      "text/plain": [
       "nltk.probability.FreqDist"
      ]
     },
     "execution_count": 110,
     "metadata": {},
     "output_type": "execute_result"
    }
   ],
   "source": [
    "type(text)"
   ]
  },
  {
   "cell_type": "code",
   "execution_count": 111,
   "metadata": {},
   "outputs": [
    {
     "data": {
      "text/plain": [
       "4"
      ]
     },
     "execution_count": 111,
     "metadata": {},
     "output_type": "execute_result"
    }
   ],
   "source": [
    "text['BROTHER']"
   ]
  },
  {
   "cell_type": "code",
   "execution_count": 127,
   "metadata": {},
   "outputs": [
    {
     "data": {
      "text/plain": [
       "2166"
      ]
     },
     "execution_count": 127,
     "metadata": {},
     "output_type": "execute_result"
    }
   ],
   "source": [
    "len(set(text6))"
   ]
  },
  {
   "cell_type": "code",
   "execution_count": 1,
   "metadata": {},
   "outputs": [],
   "source": [
    "import nltk"
   ]
  },
  {
   "cell_type": "code",
   "execution_count": 2,
   "metadata": {},
   "outputs": [],
   "source": [
    "from nltk.corpus import genesis"
   ]
  },
  {
   "cell_type": "code",
   "execution_count": 3,
   "metadata": {},
   "outputs": [
    {
     "data": {
      "text/plain": [
       "<PlaintextCorpusReader in 'C:\\\\Users\\\\user\\\\AppData\\\\Roaming\\\\nltk_data\\\\corpora\\\\genesis'>"
      ]
     },
     "execution_count": 3,
     "metadata": {},
     "output_type": "execute_result"
    }
   ],
   "source": [
    "genesis"
   ]
  },
  {
   "cell_type": "code",
   "execution_count": 4,
   "metadata": {},
   "outputs": [
    {
     "data": {
      "text/plain": [
       "nltk.corpus.reader.plaintext.PlaintextCorpusReader"
      ]
     },
     "execution_count": 4,
     "metadata": {},
     "output_type": "execute_result"
    }
   ],
   "source": [
    "type(genesis)"
   ]
  },
  {
   "cell_type": "code",
   "execution_count": 7,
   "metadata": {},
   "outputs": [
    {
     "data": {
      "text/plain": [
       "['english-kjv.txt',\n",
       " 'english-web.txt',\n",
       " 'finnish.txt',\n",
       " 'french.txt',\n",
       " 'german.txt',\n",
       " 'lolcat.txt',\n",
       " 'portuguese.txt',\n",
       " 'swedish.txt']"
      ]
     },
     "execution_count": 7,
     "metadata": {},
     "output_type": "execute_result"
    }
   ],
   "source": [
    "genesis.fileids()"
   ]
  },
  {
   "cell_type": "code",
   "execution_count": 8,
   "metadata": {},
   "outputs": [
    {
     "name": "stdout",
     "output_type": "stream",
     "text": [
      "4 30 english-kjv.txt\n",
      "4 19 english-web.txt\n",
      "5 15 finnish.txt\n",
      "4 23 french.txt\n",
      "4 23 german.txt\n",
      "4 20 lolcat.txt\n",
      "4 27 portuguese.txt\n",
      "4 30 swedish.txt\n"
     ]
    }
   ],
   "source": [
    "for fileid in genesis.fileids():\n",
    "...    n_chars = len(genesis.raw(fileid))\n",
    "...    n_words = len(genesis.words(fileid))\n",
    "...    n_sents = len(genesis.sents(fileid))\n",
    "...    print(int(n_chars/n_words), int(n_words/n_sents), fileid)"
   ]
  },
  {
   "cell_type": "code",
   "execution_count": 9,
   "metadata": {},
   "outputs": [
    {
     "ename": "NameError",
     "evalue": "name 'text6' is not defined",
     "output_type": "error",
     "traceback": [
      "\u001b[1;31m---------------------------------------------------------------------------\u001b[0m",
      "\u001b[1;31mNameError\u001b[0m                                 Traceback (most recent call last)",
      "\u001b[1;32m<ipython-input-9-242e1c482312>\u001b[0m in \u001b[0;36m<module>\u001b[1;34m()\u001b[0m\n\u001b[1;32m----> 1\u001b[1;33m \u001b[0mtext6\u001b[0m\u001b[1;33m\u001b[0m\u001b[0m\n\u001b[0m",
      "\u001b[1;31mNameError\u001b[0m: name 'text6' is not defined"
     ]
    }
   ],
   "source": [
    "text6"
   ]
  },
  {
   "cell_type": "code",
   "execution_count": 10,
   "metadata": {},
   "outputs": [
    {
     "name": "stdout",
     "output_type": "stream",
     "text": [
      "*** Introductory Examples for the NLTK Book ***\n",
      "Loading text1, ..., text9 and sent1, ..., sent9\n",
      "Type the name of the text or sentence to view it.\n",
      "Type: 'texts()' or 'sents()' to list the materials.\n",
      "text1: Moby Dick by Herman Melville 1851\n",
      "text2: Sense and Sensibility by Jane Austen 1811\n",
      "text3: The Book of Genesis\n",
      "text4: Inaugural Address Corpus\n",
      "text5: Chat Corpus\n",
      "text6: Monty Python and the Holy Grail\n",
      "text7: Wall Street Journal\n",
      "text8: Personals Corpus\n",
      "text9: The Man Who Was Thursday by G . K . Chesterton 1908\n"
     ]
    }
   ],
   "source": [
    "from nltk.book import text6"
   ]
  },
  {
   "cell_type": "code",
   "execution_count": 11,
   "metadata": {},
   "outputs": [
    {
     "data": {
      "text/plain": [
       "<Text: Monty Python and the Holy Grail>"
      ]
     },
     "execution_count": 11,
     "metadata": {},
     "output_type": "execute_result"
    }
   ],
   "source": [
    "text6"
   ]
  },
  {
   "cell_type": "code",
   "execution_count": 12,
   "metadata": {},
   "outputs": [
    {
     "data": {
      "text/plain": [
       "16967"
      ]
     },
     "execution_count": 12,
     "metadata": {},
     "output_type": "execute_result"
    }
   ],
   "source": [
    "len(text6)"
   ]
  },
  {
   "cell_type": "code",
   "execution_count": 13,
   "metadata": {},
   "outputs": [
    {
     "data": {
      "text/plain": [
       "2166"
      ]
     },
     "execution_count": 13,
     "metadata": {},
     "output_type": "execute_result"
    }
   ],
   "source": [
    "len(set(text6))"
   ]
  },
  {
   "cell_type": "code",
   "execution_count": 16,
   "metadata": {},
   "outputs": [],
   "source": [
    "u=set(text6)"
   ]
  },
  {
   "cell_type": "code",
   "execution_count": 26,
   "metadata": {},
   "outputs": [
    {
     "ename": "AttributeError",
     "evalue": "'Text' object has no attribute 'endswith'",
     "output_type": "error",
     "traceback": [
      "\u001b[1;31m---------------------------------------------------------------------------\u001b[0m",
      "\u001b[1;31mAttributeError\u001b[0m                            Traceback (most recent call last)",
      "\u001b[1;32m<ipython-input-26-306878e0e586>\u001b[0m in \u001b[0;36m<module>\u001b[1;34m()\u001b[0m\n\u001b[1;32m----> 1\u001b[1;33m \u001b[0mtext6\u001b[0m\u001b[1;33m.\u001b[0m\u001b[0mendswith\u001b[0m\u001b[1;33m(\u001b[0m\u001b[1;34m'ise'\u001b[0m\u001b[1;33m)\u001b[0m\u001b[1;33m\u001b[0m\u001b[0m\n\u001b[0m",
      "\u001b[1;31mAttributeError\u001b[0m: 'Text' object has no attribute 'endswith'"
     ]
    }
   ],
   "source": [
    "text6.endswith('ise')"
   ]
  },
  {
   "cell_type": "code",
   "execution_count": 34,
   "metadata": {},
   "outputs": [
    {
     "name": "stdout",
     "output_type": "stream",
     "text": [
      "wise; wise; apologise; surprise; surprise; surprise; noise; surprise\n"
     ]
    }
   ],
   "source": [
    "u=text6.findall(\"<.*ise>\")"
   ]
  },
  {
   "cell_type": "code",
   "execution_count": 32,
   "metadata": {},
   "outputs": [
    {
     "ename": "TypeError",
     "evalue": "'NoneType' object is not iterable",
     "output_type": "error",
     "traceback": [
      "\u001b[1;31m---------------------------------------------------------------------------\u001b[0m",
      "\u001b[1;31mTypeError\u001b[0m                                 Traceback (most recent call last)",
      "\u001b[1;32m<ipython-input-32-805f6be30094>\u001b[0m in \u001b[0;36m<module>\u001b[1;34m()\u001b[0m\n\u001b[1;32m----> 1\u001b[1;33m \u001b[0mlist\u001b[0m\u001b[1;33m(\u001b[0m\u001b[0mu\u001b[0m\u001b[1;33m)\u001b[0m\u001b[1;33m\u001b[0m\u001b[0m\n\u001b[0m",
      "\u001b[1;31mTypeError\u001b[0m: 'NoneType' object is not iterable"
     ]
    }
   ],
   "source": []
  },
  {
   "cell_type": "code",
   "execution_count": 1,
   "metadata": {},
   "outputs": [],
   "source": [
    "import nltk"
   ]
  },
  {
   "cell_type": "code",
   "execution_count": 2,
   "metadata": {},
   "outputs": [],
   "source": [
    "text= \"Python is my favourite language. I love coding in Python\""
   ]
  },
  {
   "cell_type": "code",
   "execution_count": 3,
   "metadata": {},
   "outputs": [],
   "source": [
    "tokens = nltk.sent_tokenize(text)"
   ]
  },
  {
   "cell_type": "code",
   "execution_count": 4,
   "metadata": {},
   "outputs": [
    {
     "data": {
      "text/plain": [
       "['Python is my favourite language.', 'I love coding in Python']"
      ]
     },
     "execution_count": 4,
     "metadata": {},
     "output_type": "execute_result"
    }
   ],
   "source": [
    "tokens"
   ]
  },
  {
   "cell_type": "code",
   "execution_count": 5,
   "metadata": {},
   "outputs": [],
   "source": [
    "word_token = nltk.word_tokenize(text)"
   ]
  },
  {
   "cell_type": "code",
   "execution_count": 6,
   "metadata": {},
   "outputs": [
    {
     "data": {
      "text/plain": [
       "['Python',\n",
       " 'is',\n",
       " 'my',\n",
       " 'favourite',\n",
       " 'language',\n",
       " '.',\n",
       " 'I',\n",
       " 'love',\n",
       " 'coding',\n",
       " 'in',\n",
       " 'Python']"
      ]
     },
     "execution_count": 6,
     "metadata": {},
     "output_type": "execute_result"
    }
   ],
   "source": [
    "word_token"
   ]
  },
  {
   "cell_type": "code",
   "execution_count": 9,
   "metadata": {},
   "outputs": [],
   "source": [
    "wordFreq = nltk.FreqDist(word_token)"
   ]
  },
  {
   "cell_type": "code",
   "execution_count": 10,
   "metadata": {},
   "outputs": [
    {
     "data": {
      "text/plain": [
       "FreqDist({'Python': 2, 'is': 1, 'my': 1, 'favourite': 1, 'language': 1, '.': 1, 'I': 1, 'love': 1, 'coding': 1, 'in': 1})"
      ]
     },
     "execution_count": 10,
     "metadata": {},
     "output_type": "execute_result"
    }
   ],
   "source": [
    "wordFreq"
   ]
  },
  {
   "cell_type": "code",
   "execution_count": 11,
   "metadata": {},
   "outputs": [
    {
     "data": {
      "text/plain": [
       "[('Python', 2), ('is', 1)]"
      ]
     },
     "execution_count": 11,
     "metadata": {},
     "output_type": "execute_result"
    }
   ],
   "source": [
    "wordFreq.most_common(2)"
   ]
  },
  {
   "cell_type": "code",
   "execution_count": 12,
   "metadata": {},
   "outputs": [
    {
     "name": "stdout",
     "output_type": "stream",
     "text": [
      "*** Introductory Examples for the NLTK Book ***\n",
      "Loading text1, ..., text9 and sent1, ..., sent9\n",
      "Type the name of the text or sentence to view it.\n",
      "Type: 'texts()' or 'sents()' to list the materials.\n",
      "text1: Moby Dick by Herman Melville 1851\n",
      "text2: Sense and Sensibility by Jane Austen 1811\n",
      "text3: The Book of Genesis\n",
      "text4: Inaugural Address Corpus\n",
      "text5: Chat Corpus\n",
      "text6: Monty Python and the Holy Grail\n",
      "text7: Wall Street Journal\n",
      "text8: Personals Corpus\n",
      "text9: The Man Who Was Thursday by G . K . Chesterton 1908\n"
     ]
    }
   ],
   "source": [
    "from nltk.book import *"
   ]
  },
  {
   "cell_type": "code",
   "execution_count": 13,
   "metadata": {},
   "outputs": [
    {
     "data": {
      "text/plain": [
       "nltk.text.Text"
      ]
     },
     "execution_count": 13,
     "metadata": {},
     "output_type": "execute_result"
    }
   ],
   "source": [
    "type(text1)"
   ]
  },
  {
   "cell_type": "code",
   "execution_count": 15,
   "metadata": {},
   "outputs": [
    {
     "name": "stdout",
     "output_type": "stream",
     "text": [
      "triangular; triangular; triangular; triangular\n"
     ]
    }
   ],
   "source": [
    "ends=text1.findall(\"<tri.*r>\")"
   ]
  },
  {
   "cell_type": "code",
   "execution_count": 16,
   "metadata": {},
   "outputs": [
    {
     "data": {
      "text/plain": [
       "NoneType"
      ]
     },
     "execution_count": 16,
     "metadata": {},
     "output_type": "execute_result"
    }
   ],
   "source": [
    "type(ends)"
   ]
  },
  {
   "cell_type": "code",
   "execution_count": 18,
   "metadata": {},
   "outputs": [
    {
     "data": {
      "text/plain": [
       "260819"
      ]
     },
     "execution_count": 18,
     "metadata": {},
     "output_type": "execute_result"
    }
   ],
   "source": [
    "len(text1)"
   ]
  },
  {
   "cell_type": "code",
   "execution_count": 19,
   "metadata": {},
   "outputs": [],
   "source": [
    "str=\"Python is a fantastic language\"\n"
   ]
  },
  {
   "cell_type": "code",
   "execution_count": 21,
   "metadata": {},
   "outputs": [
    {
     "data": {
      "text/plain": [
       "str"
      ]
     },
     "execution_count": 21,
     "metadata": {},
     "output_type": "execute_result"
    }
   ],
   "source": [
    "type(str)"
   ]
  },
  {
   "cell_type": "code",
   "execution_count": 22,
   "metadata": {},
   "outputs": [
    {
     "data": {
      "text/plain": [
       "30"
      ]
     },
     "execution_count": 22,
     "metadata": {},
     "output_type": "execute_result"
    }
   ],
   "source": [
    "len(str)"
   ]
  },
  {
   "cell_type": "code",
   "execution_count": 23,
   "metadata": {},
   "outputs": [
    {
     "data": {
      "text/plain": [
       "16"
      ]
     },
     "execution_count": 23,
     "metadata": {},
     "output_type": "execute_result"
    }
   ],
   "source": [
    "len(set(str))"
   ]
  },
  {
   "cell_type": "code",
   "execution_count": 24,
   "metadata": {},
   "outputs": [
    {
     "data": {
      "text/plain": [
       "{' ',\n",
       " 'P',\n",
       " 'a',\n",
       " 'c',\n",
       " 'e',\n",
       " 'f',\n",
       " 'g',\n",
       " 'h',\n",
       " 'i',\n",
       " 'l',\n",
       " 'n',\n",
       " 'o',\n",
       " 's',\n",
       " 't',\n",
       " 'u',\n",
       " 'y'}"
      ]
     },
     "execution_count": 24,
     "metadata": {},
     "output_type": "execute_result"
    }
   ],
   "source": [
    "set(str)"
   ]
  },
  {
   "cell_type": "code",
   "execution_count": 25,
   "metadata": {},
   "outputs": [
    {
     "data": {
      "text/plain": [
       "set"
      ]
     },
     "execution_count": 25,
     "metadata": {},
     "output_type": "execute_result"
    }
   ],
   "source": [
    "type(set(str))"
   ]
  },
  {
   "cell_type": "code",
   "execution_count": 27,
   "metadata": {},
   "outputs": [],
   "source": [
    "transform = [word.lower() for word in set(text1)]\n",
    "    "
   ]
  },
  {
   "cell_type": "code",
   "execution_count": 28,
   "metadata": {},
   "outputs": [
    {
     "data": {
      "text/plain": [
       "['previous',\n",
       " 'sorter',\n",
       " 'magnified',\n",
       " 'slipping',\n",
       " 'cited',\n",
       " 'islands',\n",
       " 'eternity',\n",
       " 'coasting',\n",
       " 'ditchers',\n",
       " 'bedfellows',\n",
       " 'tinge',\n",
       " 'sacrifice',\n",
       " 'encouraged',\n",
       " 'jar',\n",
       " 'belfast',\n",
       " 'beat',\n",
       " 'c',\n",
       " 'coming',\n",
       " 'inelegant',\n",
       " 'caking',\n",
       " 'toiling',\n",
       " 'board',\n",
       " 'escape',\n",
       " 'catch',\n",
       " 'aldermen',\n",
       " 'catched',\n",
       " 'valley',\n",
       " 'existing',\n",
       " 'greyhound',\n",
       " 'clung',\n",
       " 'careful',\n",
       " 'disturb',\n",
       " 'eyeless',\n",
       " 'accommodated',\n",
       " 'dismally',\n",
       " 'cudgelling',\n",
       " 'ahoy',\n",
       " 'billeted',\n",
       " 'thoughtlessness',\n",
       " '1492',\n",
       " 'clergyman',\n",
       " 'weathering',\n",
       " 'fled',\n",
       " 'affording',\n",
       " 'impute',\n",
       " 'andromeda',\n",
       " 'imprecate',\n",
       " 'red',\n",
       " 'measurer',\n",
       " 'fornication',\n",
       " 'dewy',\n",
       " 'gourmand',\n",
       " 'warmest',\n",
       " 'indomitableness',\n",
       " 'cosy',\n",
       " 'brisk',\n",
       " 'subtlety',\n",
       " 'moving',\n",
       " 'voyager',\n",
       " 'blisters',\n",
       " 'bystanders',\n",
       " 'sledge',\n",
       " 'lama',\n",
       " 'rodmond',\n",
       " 'breaches',\n",
       " 'rest',\n",
       " 'chiseled',\n",
       " 'overhead',\n",
       " 'circassian',\n",
       " 'baltimore',\n",
       " 'skrimmage',\n",
       " 'rapt',\n",
       " 'indians',\n",
       " 'conceptions',\n",
       " 'sockets',\n",
       " 'eight',\n",
       " 'intolerably',\n",
       " 'bacon',\n",
       " 'behold',\n",
       " 'regarding',\n",
       " 'gaspings',\n",
       " 'castaways',\n",
       " 'caprices',\n",
       " 'inclusive',\n",
       " 'hospitals',\n",
       " 'astronomy',\n",
       " 'silvery',\n",
       " 'purchas',\n",
       " 'fattening',\n",
       " '46',\n",
       " 'slide',\n",
       " 'yokes',\n",
       " 'christened',\n",
       " 'skies',\n",
       " 'undiscernible',\n",
       " 'place',\n",
       " 'discovering',\n",
       " 'premonitory',\n",
       " 'suspecting',\n",
       " 'moody',\n",
       " 'mansion',\n",
       " 'straps',\n",
       " 'worships',\n",
       " 'dyspepsia',\n",
       " 'latter',\n",
       " 'bowling',\n",
       " 'relieving',\n",
       " 'grant',\n",
       " 'tub',\n",
       " 'magic',\n",
       " 'lately',\n",
       " 'vitality',\n",
       " 'pooh',\n",
       " 'stair',\n",
       " 'perpetuates',\n",
       " 'remote',\n",
       " 'sunk',\n",
       " 'individualizing',\n",
       " 'spirit',\n",
       " 'pulpit',\n",
       " 'proved',\n",
       " 'jobs',\n",
       " 'her',\n",
       " 'sliding',\n",
       " 'damsels',\n",
       " 'seas',\n",
       " 'maidens',\n",
       " 'durand',\n",
       " 'swing',\n",
       " 'announces',\n",
       " 'mirabilis',\n",
       " 'rail',\n",
       " 'disembowelments',\n",
       " 'stampings',\n",
       " 'flung',\n",
       " 'statistically',\n",
       " 'brush',\n",
       " 'buttress',\n",
       " 'mount',\n",
       " 'sleet',\n",
       " 'pirohitee',\n",
       " 'countrymen',\n",
       " 'flapped',\n",
       " 'vital',\n",
       " 'tinges',\n",
       " 'blazing',\n",
       " 'no',\n",
       " 'nautical',\n",
       " 'inquiringly',\n",
       " 'swearing',\n",
       " 'bench',\n",
       " 'coiling',\n",
       " 'chick',\n",
       " 'complacent',\n",
       " '_____________',\n",
       " 'commandment',\n",
       " 'tally',\n",
       " 'drove',\n",
       " 'in',\n",
       " 'spars',\n",
       " 'hazard',\n",
       " 'fatality',\n",
       " 'babbling',\n",
       " 'pitchpoling',\n",
       " 'sheaths',\n",
       " 'sprung',\n",
       " 'upper',\n",
       " 'heavy',\n",
       " 'napkins',\n",
       " 'bang',\n",
       " 'halt',\n",
       " 'sideway',\n",
       " 'favoured',\n",
       " 'dismantled',\n",
       " 'granting',\n",
       " 'fat',\n",
       " 'bailiff',\n",
       " 'constituting',\n",
       " 'burton',\n",
       " 'proprietors',\n",
       " 'floundering',\n",
       " 'not',\n",
       " 'bows',\n",
       " 'allies',\n",
       " 'gag',\n",
       " 'infiltrated',\n",
       " 'computed',\n",
       " 'blasting',\n",
       " 'vicar',\n",
       " 'old',\n",
       " 'muffledness',\n",
       " 'let',\n",
       " 'therefore',\n",
       " 'quarrel',\n",
       " 'illimitably',\n",
       " 'valparaiso',\n",
       " 'stick',\n",
       " 'quickening',\n",
       " 'yield',\n",
       " 'obsolete',\n",
       " 'inducements',\n",
       " 'oakes',\n",
       " 'testimony',\n",
       " 'press',\n",
       " 'northwest',\n",
       " 'happens',\n",
       " 'manifested',\n",
       " 'typifies',\n",
       " 'satisfaction',\n",
       " 'chose',\n",
       " 'cavities',\n",
       " 'nuptial',\n",
       " 'sulkies',\n",
       " 'commonest',\n",
       " 'took',\n",
       " 'likely',\n",
       " 'lighting',\n",
       " 'talk',\n",
       " 'shouldered',\n",
       " 'unmeaningly',\n",
       " 'amid',\n",
       " 'secrecy',\n",
       " 'trustworthy',\n",
       " 'seek',\n",
       " '11',\n",
       " 'cooper',\n",
       " '?\"',\n",
       " 'stander',\n",
       " 'conquered',\n",
       " 'controllable',\n",
       " 'correctly',\n",
       " 'prayed',\n",
       " 'cleanse',\n",
       " 'broadly',\n",
       " 'cod',\n",
       " 'vancouver',\n",
       " 'zeal',\n",
       " 'pontoppodan',\n",
       " 'basketed',\n",
       " 'partaking',\n",
       " 'pupils',\n",
       " 'floors',\n",
       " 'nantucketers',\n",
       " 'mordecai',\n",
       " 'hist',\n",
       " 'ergo',\n",
       " 'poland',\n",
       " 'sum',\n",
       " 'satan',\n",
       " 'steadfast',\n",
       " 'verily',\n",
       " 'adjusting',\n",
       " 'longings',\n",
       " 'antiochus',\n",
       " 'sanctuary',\n",
       " 'alps',\n",
       " 'heeds',\n",
       " 'renewed',\n",
       " 'cluster',\n",
       " 'tin',\n",
       " 'immensity',\n",
       " 'inquire',\n",
       " 'church',\n",
       " 'hampshire',\n",
       " 'sullen',\n",
       " 'unostentatious',\n",
       " 'hen',\n",
       " 'noways',\n",
       " 'persuading',\n",
       " 'insert',\n",
       " 'anticipative',\n",
       " 'skilful',\n",
       " 'zoroaster',\n",
       " 'strangers',\n",
       " 'speckled',\n",
       " 'november',\n",
       " 'moot',\n",
       " 'pumping',\n",
       " 'respect',\n",
       " 'bump',\n",
       " 'craziness',\n",
       " 'internationally',\n",
       " 'burrower',\n",
       " 'columns',\n",
       " 'concluding',\n",
       " 'plungingly',\n",
       " 'reticule',\n",
       " 'also',\n",
       " 'tides',\n",
       " 'presbyterians',\n",
       " 'yankees',\n",
       " 'thy',\n",
       " 'knottiest',\n",
       " 'queerest',\n",
       " 'juan',\n",
       " 'overmanned',\n",
       " 'advised',\n",
       " 'survival',\n",
       " 'side',\n",
       " 'efficiency',\n",
       " 'massacre',\n",
       " 'cellars',\n",
       " 'fable',\n",
       " 'studs',\n",
       " 'folded',\n",
       " 'gardiner',\n",
       " '?',\n",
       " 'famishing',\n",
       " 'gums',\n",
       " 'exciting',\n",
       " 'shipwrecks',\n",
       " 'gallant',\n",
       " 'eyelids',\n",
       " 'swallow',\n",
       " 'convict',\n",
       " 'scrupulously',\n",
       " 'immensely',\n",
       " 'prayer',\n",
       " 'pilfering',\n",
       " 'tombed',\n",
       " 'paused',\n",
       " 'regions',\n",
       " 'sweating',\n",
       " 'billion',\n",
       " 'brood',\n",
       " 'whiff',\n",
       " 'moods',\n",
       " 'ballena',\n",
       " 'bounteous',\n",
       " 'knights',\n",
       " 'vibrate',\n",
       " 'foreshortened',\n",
       " 'outrageous',\n",
       " 'tangles',\n",
       " 'waked',\n",
       " 'dauntless',\n",
       " 'stung',\n",
       " 'driving',\n",
       " 'sits',\n",
       " 'connect',\n",
       " 'feeder',\n",
       " 'riots',\n",
       " 'spangled',\n",
       " 'circle',\n",
       " 'jollies',\n",
       " 'nosed',\n",
       " 'purposes',\n",
       " 'encasing',\n",
       " 'kills',\n",
       " 'upside',\n",
       " 'ridden',\n",
       " 'overtaken',\n",
       " 'leaped',\n",
       " 'commence',\n",
       " 'males',\n",
       " 'zag',\n",
       " 'hurricane',\n",
       " 'insufficient',\n",
       " 'unreverenced',\n",
       " 'paternity',\n",
       " 'relieved',\n",
       " 'hercules',\n",
       " 'hvalt',\n",
       " 'grudge',\n",
       " 'peeling',\n",
       " 'graved',\n",
       " 'foamy',\n",
       " 'marble',\n",
       " 'cones',\n",
       " 'tea',\n",
       " 'miracle',\n",
       " 'stubbornest',\n",
       " 'biting',\n",
       " 'popularly',\n",
       " 'ochotsh',\n",
       " 'baron',\n",
       " 'furlongs',\n",
       " 'subdivided',\n",
       " 'leak',\n",
       " 'glade',\n",
       " 'densely',\n",
       " 'plaited',\n",
       " 'dentistical',\n",
       " 'isaiah',\n",
       " 'adjoining',\n",
       " 'establishing',\n",
       " 'lye',\n",
       " 'deacon',\n",
       " 'week',\n",
       " 'rot',\n",
       " 'plato',\n",
       " 'shoals',\n",
       " 'when',\n",
       " 'swerve',\n",
       " 'amen',\n",
       " 'enable',\n",
       " 'innocently',\n",
       " 'upharsin',\n",
       " 'extracting',\n",
       " 'indiamen',\n",
       " 'royalty',\n",
       " 'medallion',\n",
       " 'palest',\n",
       " 'howlings',\n",
       " 'fear',\n",
       " 'people',\n",
       " '93',\n",
       " 'human',\n",
       " 'stretch',\n",
       " 'sweep',\n",
       " 'day',\n",
       " 'intervened',\n",
       " 'careless',\n",
       " 'raced',\n",
       " 'season',\n",
       " 'merrier',\n",
       " 'fortune',\n",
       " 'astronomers',\n",
       " 'gazette',\n",
       " 'revelry',\n",
       " 'softness',\n",
       " 'derive',\n",
       " 'denoted',\n",
       " 'mutely',\n",
       " 'stiffest',\n",
       " 'indistinctly',\n",
       " 'tumbled',\n",
       " 'commotions',\n",
       " 'objectionable',\n",
       " 'aboriginally',\n",
       " 'blithe',\n",
       " 'vanquished',\n",
       " 'clock',\n",
       " 'carving',\n",
       " 'bartering',\n",
       " 'subject',\n",
       " 'firm',\n",
       " 'cetacea',\n",
       " 'archaeological',\n",
       " 'witness',\n",
       " 'stubbs',\n",
       " 'colds',\n",
       " 'central',\n",
       " 'retribution',\n",
       " 'stingy',\n",
       " 'hull',\n",
       " 'pepper',\n",
       " 'content',\n",
       " 'without',\n",
       " 'pryed',\n",
       " 'burly',\n",
       " 'extremes',\n",
       " 'deceits',\n",
       " 'pads',\n",
       " 'irresponsible',\n",
       " 'possess',\n",
       " 'necessities',\n",
       " 'false',\n",
       " '31st',\n",
       " 'quicken',\n",
       " 'familiar',\n",
       " 'ungainly',\n",
       " 'professor',\n",
       " 'l',\n",
       " 'fits',\n",
       " '99',\n",
       " 'expands',\n",
       " 'advance',\n",
       " 'exercises',\n",
       " 'subterranean',\n",
       " 'forlornly',\n",
       " 'diagonal',\n",
       " 'skylarking',\n",
       " 'dam',\n",
       " 'slights',\n",
       " 'desperation',\n",
       " 'help',\n",
       " 'deepening',\n",
       " 'arguments',\n",
       " 'christ',\n",
       " 'hair',\n",
       " 'casket',\n",
       " 'secret',\n",
       " 'weighing',\n",
       " 'puissant',\n",
       " 'kidnapping',\n",
       " 'explained',\n",
       " 'cohorts',\n",
       " 'revenge',\n",
       " 'assailant',\n",
       " 'excellent',\n",
       " 'hoveringly',\n",
       " 'orphan',\n",
       " 'peppered',\n",
       " 'silk',\n",
       " 'lunatic',\n",
       " 'afternoon',\n",
       " 'letting',\n",
       " 'weazel',\n",
       " 'paralysed',\n",
       " 'existence',\n",
       " 'know',\n",
       " 'smeerenberg',\n",
       " 'herd',\n",
       " 'allures',\n",
       " 'triply',\n",
       " 'african',\n",
       " 'unsolicited',\n",
       " 'surprising',\n",
       " 'striving',\n",
       " 'narrative',\n",
       " 'derived',\n",
       " 'purty',\n",
       " 'marline',\n",
       " 'tugging',\n",
       " 'den',\n",
       " 'united',\n",
       " 'ducking',\n",
       " 'whittled',\n",
       " 'communicated',\n",
       " 'margin',\n",
       " 'cares',\n",
       " 'speeding',\n",
       " 'surtout',\n",
       " 'measure',\n",
       " 'sadder',\n",
       " 'manners',\n",
       " 'slewed',\n",
       " 'ross',\n",
       " 'agency',\n",
       " 'yawing',\n",
       " 'studies',\n",
       " 'omnitooled',\n",
       " 'tallow',\n",
       " 'cries',\n",
       " 'whosoever',\n",
       " 'uninhabited',\n",
       " 'embarrassed',\n",
       " 'freebooters',\n",
       " 'unobstructed',\n",
       " 'grounded',\n",
       " 'v',\n",
       " 'attracted',\n",
       " 'hope',\n",
       " 'entrances',\n",
       " 'purchasing',\n",
       " 'incomplete',\n",
       " 'soils',\n",
       " 'corresponds',\n",
       " 'propulsion',\n",
       " 'supplying',\n",
       " 'conclusion',\n",
       " 'frothed',\n",
       " 'dumplings',\n",
       " 'snowy',\n",
       " 'reckoning',\n",
       " 'united',\n",
       " 'fullest',\n",
       " 'ian',\n",
       " 'cannibals',\n",
       " 'tongatobooarrs',\n",
       " 'credentials',\n",
       " 'tudors',\n",
       " 'pleasantly',\n",
       " 'parliament',\n",
       " 'valise',\n",
       " 'disquietude',\n",
       " 'equatorial',\n",
       " 'prosecuted',\n",
       " 'incontinently',\n",
       " 'dissolve',\n",
       " 'wrapping',\n",
       " 'aggregated',\n",
       " 'happier',\n",
       " 'nightfall',\n",
       " 'till',\n",
       " 'whooping',\n",
       " 'skipper',\n",
       " 'tyros',\n",
       " 'observation',\n",
       " 'heartwoes',\n",
       " 'benches',\n",
       " 'naught',\n",
       " 'heights',\n",
       " 'licensed',\n",
       " 'slipperiness',\n",
       " 'despot',\n",
       " 'drawn',\n",
       " 'freshened',\n",
       " 'tamerlane',\n",
       " 'tailed',\n",
       " 'mirrors',\n",
       " 'vainly',\n",
       " 'hereby',\n",
       " 'mainly',\n",
       " 'antlers',\n",
       " 'moby',\n",
       " 'leaking',\n",
       " 'gauntleted',\n",
       " 'hast',\n",
       " 'adventures',\n",
       " 'confirmation',\n",
       " 'trunk',\n",
       " 'rows',\n",
       " 'lamps',\n",
       " 'cakes',\n",
       " 'rise',\n",
       " 'harp',\n",
       " 'brained',\n",
       " 'jet',\n",
       " 'others',\n",
       " 'sphinx',\n",
       " 'about',\n",
       " 'cocks',\n",
       " 'lens',\n",
       " 'allowance',\n",
       " 'frock',\n",
       " 'india',\n",
       " 'yesterday',\n",
       " 'fix',\n",
       " 'ablutions',\n",
       " 'spaciousness',\n",
       " 'reciprocally',\n",
       " 'remained',\n",
       " 'circumvention',\n",
       " 'wisdom',\n",
       " 'jimimi',\n",
       " 'salvation',\n",
       " 'supposition',\n",
       " 'beefsteaks',\n",
       " 'clapped',\n",
       " 'cambrics',\n",
       " 'dear',\n",
       " 'passenger',\n",
       " 'judicious',\n",
       " 'entreat',\n",
       " 'preliminaries',\n",
       " 'tows',\n",
       " 'tashtego',\n",
       " 'climes',\n",
       " 'attribute',\n",
       " 'sign',\n",
       " 'flask',\n",
       " 'creating',\n",
       " 'spilling',\n",
       " 'ticking',\n",
       " 'labrador',\n",
       " 'dons',\n",
       " 'intricacy',\n",
       " 'roomy',\n",
       " 'troil',\n",
       " 'fritters',\n",
       " 'outburst',\n",
       " 'broad',\n",
       " 'inexperience',\n",
       " 'cologne',\n",
       " 'moderately',\n",
       " 'then',\n",
       " 'rumbles',\n",
       " 'contradiction',\n",
       " 'washes',\n",
       " 'counterbalance',\n",
       " 'represent',\n",
       " 'take',\n",
       " 'witchery',\n",
       " 'isolatoes',\n",
       " 'befriended',\n",
       " 'substance',\n",
       " 'skysail',\n",
       " 'annihilation',\n",
       " 'piggledy',\n",
       " 'genesis',\n",
       " 'comply',\n",
       " 'scale',\n",
       " 'pulls',\n",
       " 'brief',\n",
       " 'sorts',\n",
       " 'flea',\n",
       " 'ocean',\n",
       " 'mock',\n",
       " 'webster',\n",
       " 'ready',\n",
       " 'mangrove',\n",
       " 'absorbingly',\n",
       " 'ceremonies',\n",
       " 'dazzling',\n",
       " 'logs',\n",
       " 'anacondas',\n",
       " 'destructive',\n",
       " '800',\n",
       " 'banked',\n",
       " 'wrinkles',\n",
       " 'emperors',\n",
       " 'argued',\n",
       " 'welded',\n",
       " 'irresistibly',\n",
       " 'doubtless',\n",
       " 'cruisings',\n",
       " 'might',\n",
       " 'mincer',\n",
       " 'northwards',\n",
       " 'field',\n",
       " 'harmoniously',\n",
       " 'files',\n",
       " 'charity',\n",
       " 'unbodied',\n",
       " 'sagaciously',\n",
       " 'entranced',\n",
       " 'kindly',\n",
       " 'slabs',\n",
       " 'javan',\n",
       " 'relatively',\n",
       " 'destruction',\n",
       " 'unchanging',\n",
       " 'are',\n",
       " 'beyond',\n",
       " 'availle',\n",
       " 'what',\n",
       " 'circumnavigating',\n",
       " 'behold',\n",
       " 'fresh',\n",
       " 'mending',\n",
       " 'amounts',\n",
       " 'lascars',\n",
       " 'being',\n",
       " 'toed',\n",
       " 'opens',\n",
       " 'infesting',\n",
       " 'shoe',\n",
       " 'capture',\n",
       " 'paralysis',\n",
       " 'forewarned',\n",
       " 'auxiliary',\n",
       " 'sagacity',\n",
       " 'honours',\n",
       " 'stretching',\n",
       " 'quality',\n",
       " 'interesting',\n",
       " 'stoics',\n",
       " 'boys',\n",
       " 'incoherences',\n",
       " 'friar',\n",
       " 'groups',\n",
       " 'outreaching',\n",
       " 'shroud',\n",
       " 'glides',\n",
       " '54',\n",
       " 'hawk',\n",
       " 'english',\n",
       " 'overlook',\n",
       " 'ruffles',\n",
       " 'historically',\n",
       " 'fife',\n",
       " 'properly',\n",
       " 'adoration',\n",
       " 'apportioned',\n",
       " 'storied',\n",
       " 'cow',\n",
       " 'cursorily',\n",
       " 'lacquered',\n",
       " 'retain',\n",
       " 'hull',\n",
       " 'warbling',\n",
       " 'sated',\n",
       " 'cypher',\n",
       " 'body',\n",
       " 'brutal',\n",
       " 'honour',\n",
       " 'disobedience',\n",
       " 'sleek',\n",
       " 'wails',\n",
       " 'teetering',\n",
       " 'dance',\n",
       " 'seen',\n",
       " 'imagining',\n",
       " 'stolidly',\n",
       " 'feet',\n",
       " 'radiance',\n",
       " 'suit',\n",
       " 'rights',\n",
       " 'banqueter',\n",
       " 'pantheon',\n",
       " 'pull',\n",
       " 'harpooner',\n",
       " 'pascal',\n",
       " 'halibut',\n",
       " 'tumble',\n",
       " 'handspikes',\n",
       " 'grenadier',\n",
       " 'clapping',\n",
       " 'deaden',\n",
       " 'dreams',\n",
       " 'protection',\n",
       " 'cuffs',\n",
       " 'grassy',\n",
       " 'suspicion',\n",
       " 'eager',\n",
       " 'wondrousness',\n",
       " 'true',\n",
       " 'leo',\n",
       " 'pictures',\n",
       " 'designs',\n",
       " 'shrouds',\n",
       " 'sawed',\n",
       " 'exhausted',\n",
       " 'bite',\n",
       " 'poison',\n",
       " 'nights',\n",
       " 'twill',\n",
       " 'crash',\n",
       " 'goats',\n",
       " 'rid',\n",
       " 'zig',\n",
       " 'bathe',\n",
       " 'july',\n",
       " 'enchanter',\n",
       " 'dislocation',\n",
       " 'supreme',\n",
       " 'promontory',\n",
       " 'paying',\n",
       " 'notice',\n",
       " 'crotch',\n",
       " 'lightest',\n",
       " 'preposterous',\n",
       " 'bloody',\n",
       " 'enveloping',\n",
       " 'confining',\n",
       " 'wake',\n",
       " 'fleet',\n",
       " 'advances',\n",
       " 'laws',\n",
       " '30',\n",
       " 'spermaceti',\n",
       " 'comets',\n",
       " 'frightened',\n",
       " 'eliza',\n",
       " 'harmony',\n",
       " 'grand',\n",
       " 'eloped',\n",
       " '\"...',\n",
       " 'hints',\n",
       " 'narrower',\n",
       " 'unlike',\n",
       " 'mutations',\n",
       " 'stood',\n",
       " 'chiselled',\n",
       " 'precincts',\n",
       " 'characteristic',\n",
       " 'inasmuch',\n",
       " 'flitting',\n",
       " 'rehearse',\n",
       " 'mutters',\n",
       " 'disagreeable',\n",
       " 'bout',\n",
       " 'lancet',\n",
       " 'prominent',\n",
       " 'science',\n",
       " 'hump',\n",
       " 'scalp',\n",
       " 'strangely',\n",
       " 'negatived',\n",
       " 'inhabitiveness',\n",
       " 'art',\n",
       " 'thinks',\n",
       " 'sallied',\n",
       " 'homeward',\n",
       " 'profoundly',\n",
       " 'investigated',\n",
       " 'effaced',\n",
       " 'opulence',\n",
       " 'mockingly',\n",
       " 'cigar',\n",
       " 'porter',\n",
       " 'foaming',\n",
       " 'entangled',\n",
       " 'facing',\n",
       " 'ripplingly',\n",
       " 'jackets',\n",
       " 'sittin',\n",
       " 'breathe',\n",
       " 'european',\n",
       " 'joosy',\n",
       " 'breathest',\n",
       " 'longitude',\n",
       " 'peopled',\n",
       " 'generations',\n",
       " 'wearing',\n",
       " 'leavings',\n",
       " 'new',\n",
       " 'rustle',\n",
       " 'organ',\n",
       " 'coarse',\n",
       " 'canoe',\n",
       " 'dropping',\n",
       " 'throttling',\n",
       " 'complexioned',\n",
       " 'judges',\n",
       " 'becalmed',\n",
       " 'wrapall',\n",
       " 'that',\n",
       " 'goodly',\n",
       " 'lithe',\n",
       " 'thump',\n",
       " 'gave',\n",
       " 'rain',\n",
       " 'deepeningly',\n",
       " 'rending',\n",
       " 'diabolical',\n",
       " 'impetus',\n",
       " 'epaulets',\n",
       " 'estate',\n",
       " 'mole',\n",
       " 'conceived',\n",
       " 'inn',\n",
       " 'steamer',\n",
       " 'brawniness',\n",
       " 'planted',\n",
       " 'availing',\n",
       " 'mexico',\n",
       " 'thousands',\n",
       " 'flinty',\n",
       " 'pealing',\n",
       " 'unmixed',\n",
       " 'froissart',\n",
       " 'parents',\n",
       " 'netherlands',\n",
       " 'pooh',\n",
       " 'empty',\n",
       " 'needs',\n",
       " 'coils',\n",
       " 'roanoke',\n",
       " 'antelope',\n",
       " 'disputes',\n",
       " 'privilege',\n",
       " 'result',\n",
       " 'dashing',\n",
       " 'ineffably',\n",
       " 'draggingly',\n",
       " 'popayan',\n",
       " 'drawled',\n",
       " 'congeal',\n",
       " 'onward',\n",
       " 'instigation',\n",
       " 'operates',\n",
       " 'maintain',\n",
       " 'zones',\n",
       " 'controlling',\n",
       " 'dew',\n",
       " 'infallible',\n",
       " 'oxygenated',\n",
       " 'wish',\n",
       " 'undecreasing',\n",
       " 'woe',\n",
       " 'brimful',\n",
       " 'trade',\n",
       " 'wind',\n",
       " 'zoology',\n",
       " 'guineas',\n",
       " 'moved',\n",
       " 'magian',\n",
       " 'proportionate',\n",
       " 'comprehensive',\n",
       " 'tethered',\n",
       " 'fanatic',\n",
       " 'digesting',\n",
       " 'mowers',\n",
       " 'bayonet',\n",
       " 'rome',\n",
       " 'extra',\n",
       " 'unvarying',\n",
       " 'rat',\n",
       " 'intercourse',\n",
       " 'brawny',\n",
       " 'dun',\n",
       " 'abided',\n",
       " 'unavoidably',\n",
       " 'abridged',\n",
       " 'norwegian',\n",
       " 'torpid',\n",
       " 'sneezing',\n",
       " 'usages',\n",
       " 'discolour',\n",
       " 'illuminating',\n",
       " 'goods',\n",
       " 'sunda',\n",
       " 'plain',\n",
       " 'brilliance',\n",
       " 'energy',\n",
       " 'romans',\n",
       " 'animated',\n",
       " 'parted',\n",
       " 'bloodiest',\n",
       " 'skrimshander',\n",
       " 'subterraneous',\n",
       " 'slap',\n",
       " 'comprehensible',\n",
       " 'oxen',\n",
       " 'fur',\n",
       " 'convivial',\n",
       " 'formerly',\n",
       " ...]"
      ]
     },
     "execution_count": 28,
     "metadata": {},
     "output_type": "execute_result"
    }
   ],
   "source": [
    "transform"
   ]
  },
  {
   "cell_type": "code",
   "execution_count": 33,
   "metadata": {},
   "outputs": [
    {
     "data": {
      "text/plain": [
       "19317"
      ]
     },
     "execution_count": 33,
     "metadata": {},
     "output_type": "execute_result"
    }
   ],
   "source": [
    "len(transform)"
   ]
  },
  {
   "cell_type": "code",
   "execution_count": 29,
   "metadata": {},
   "outputs": [
    {
     "data": {
      "text/plain": [
       "13.502044830977896"
      ]
     },
     "execution_count": 29,
     "metadata": {},
     "output_type": "execute_result"
    }
   ],
   "source": [
    "len(text1)/len(set(text1))"
   ]
  },
  {
   "cell_type": "code",
   "execution_count": 34,
   "metadata": {},
   "outputs": [
    {
     "data": {
      "text/plain": [
       "15.136614241773549"
      ]
     },
     "execution_count": 34,
     "metadata": {},
     "output_type": "execute_result"
    }
   ],
   "source": [
    "len(text1)/len(set(transform))"
   ]
  },
  {
   "cell_type": "code",
   "execution_count": 35,
   "metadata": {},
   "outputs": [],
   "source": [
    "big=[word for word in set(text1) if len(word)>10]"
   ]
  },
  {
   "cell_type": "code",
   "execution_count": 37,
   "metadata": {},
   "outputs": [],
   "source": [
    "start=[word for word in set(text1) if word.startswith('s')]"
   ]
  },
  {
   "cell_type": "code",
   "execution_count": 38,
   "metadata": {},
   "outputs": [
    {
     "data": {
      "text/plain": [
       "['sorter',\n",
       " 'slipping',\n",
       " 'sacrifice',\n",
       " 'subtlety',\n",
       " 'sledge',\n",
       " 'skrimmage',\n",
       " 'sockets',\n",
       " 'silvery',\n",
       " 'slide',\n",
       " 'skies',\n",
       " 'suspecting',\n",
       " 'straps',\n",
       " 'stair',\n",
       " 'sunk',\n",
       " 'sliding',\n",
       " 'stampings',\n",
       " 'statistically',\n",
       " 'swearing',\n",
       " 'spars',\n",
       " 'sheaths',\n",
       " 'sprung',\n",
       " 'sideway',\n",
       " 'satisfaction',\n",
       " 'sulkies',\n",
       " 'shouldered',\n",
       " 'secrecy',\n",
       " 'stander',\n",
       " 'sum',\n",
       " 'steadfast',\n",
       " 'sanctuary',\n",
       " 'sullen',\n",
       " 'skilful',\n",
       " 'strangers',\n",
       " 'speckled',\n",
       " 'survival',\n",
       " 'side',\n",
       " 'studs',\n",
       " 'shipwrecks',\n",
       " 'swallow',\n",
       " 'scrupulously',\n",
       " 'sweating',\n",
       " 'stung',\n",
       " 'sits',\n",
       " 'spangled',\n",
       " 'stubbornest',\n",
       " 'subdivided',\n",
       " 'shoals',\n",
       " 'swerve',\n",
       " 'stretch',\n",
       " 'sweep',\n",
       " 'softness',\n",
       " 'stiffest',\n",
       " 'stubbs',\n",
       " 'stingy',\n",
       " 'subterranean',\n",
       " 'skylarking',\n",
       " 'slights',\n",
       " 'secret',\n",
       " 'silk',\n",
       " 'surprising',\n",
       " 'striving',\n",
       " 'speeding',\n",
       " 'surtout',\n",
       " 'sadder',\n",
       " 'slewed',\n",
       " 'studies',\n",
       " 'soils',\n",
       " 'supplying',\n",
       " 'snowy',\n",
       " 'skipper',\n",
       " 'slipperiness',\n",
       " 'spaciousness',\n",
       " 'salvation',\n",
       " 'supposition',\n",
       " 'sign',\n",
       " 'spilling',\n",
       " 'substance',\n",
       " 'skysail',\n",
       " 'scale',\n",
       " 'sorts',\n",
       " 'sagaciously',\n",
       " 'shoe',\n",
       " 'sagacity',\n",
       " 'stretching',\n",
       " 'shroud',\n",
       " 'storied',\n",
       " 'sated',\n",
       " 'sleek',\n",
       " 'seen',\n",
       " 'stolidly',\n",
       " 'suit',\n",
       " 'suspicion',\n",
       " 'shrouds',\n",
       " 'sawed',\n",
       " 'stood',\n",
       " 'scalp',\n",
       " 'strangely',\n",
       " 'sallied',\n",
       " 'sittin',\n",
       " 'steamer',\n",
       " 'sneezing',\n",
       " 'skrimshander',\n",
       " 'subterraneous',\n",
       " 'slap',\n",
       " 'swarthy',\n",
       " 'sprained',\n",
       " 'street',\n",
       " 'staying',\n",
       " 'scrubbed',\n",
       " 'scant',\n",
       " 'superstitions',\n",
       " 'spontaneous',\n",
       " 'soliloquizer',\n",
       " 'screaming',\n",
       " 'splice',\n",
       " 'snare',\n",
       " 'sixteen',\n",
       " 'single',\n",
       " 'swathed',\n",
       " 'scarf',\n",
       " 'suggestions',\n",
       " 'shy',\n",
       " 'spiritually',\n",
       " 'severed',\n",
       " 'sigh',\n",
       " 'snaps',\n",
       " 'scheme',\n",
       " 'sheering',\n",
       " 'sheltered',\n",
       " 'season',\n",
       " 'scrutinizing',\n",
       " 'smell',\n",
       " 'serving',\n",
       " 'steer',\n",
       " 'stupor',\n",
       " 'synod',\n",
       " 'spoil',\n",
       " 'self',\n",
       " 'snorts',\n",
       " 'summits',\n",
       " 'sweetness',\n",
       " 'suffused',\n",
       " 'saddest',\n",
       " 'shoemaker',\n",
       " 'style',\n",
       " 'station',\n",
       " 'sharpened',\n",
       " 'solid',\n",
       " 'shipwrecked',\n",
       " 'seeing',\n",
       " 'submitted',\n",
       " 'sit',\n",
       " 'suppressed',\n",
       " 'slit',\n",
       " 'snooze',\n",
       " 'spear',\n",
       " 'sinful',\n",
       " 'shears',\n",
       " 'stirring',\n",
       " 'scuffling',\n",
       " 'softly',\n",
       " 'sang',\n",
       " 'shocked',\n",
       " 'snoozing',\n",
       " 'settled',\n",
       " 'shuffling',\n",
       " 'strive',\n",
       " 'supperless',\n",
       " 'snake',\n",
       " 'sect',\n",
       " 'stages',\n",
       " 'slouching',\n",
       " 'spectrally',\n",
       " 'seniors',\n",
       " 'starry',\n",
       " 'sail',\n",
       " 'staving',\n",
       " 'soldiers',\n",
       " 'shared',\n",
       " 'strutting',\n",
       " 'subservient',\n",
       " 'snorting',\n",
       " 'snore',\n",
       " 'savagery',\n",
       " 'scraping',\n",
       " 'sly',\n",
       " 'sandpaper',\n",
       " 'sketching',\n",
       " 'smoker',\n",
       " 'sociable',\n",
       " 'shaking',\n",
       " 'symbols',\n",
       " 'seats',\n",
       " 'squalls',\n",
       " 'succeed',\n",
       " 'sounds',\n",
       " 'sheepishly',\n",
       " 'sheepfold',\n",
       " 'spouting',\n",
       " 'slopingly',\n",
       " 'shop',\n",
       " 'sympathetic',\n",
       " 'salamander',\n",
       " 'strongly',\n",
       " 'soulless',\n",
       " 'secured',\n",
       " 'slightly',\n",
       " 'snortings',\n",
       " 'stillness',\n",
       " 'seventh',\n",
       " 'swagger',\n",
       " 'shameful',\n",
       " 'scratching',\n",
       " 'savoury',\n",
       " 'shirt',\n",
       " 'superstitious',\n",
       " 'swoop',\n",
       " 'shifting',\n",
       " 'spermy',\n",
       " 'started',\n",
       " 'stature',\n",
       " 'satirical',\n",
       " 'sooth',\n",
       " 'soar',\n",
       " 'springing',\n",
       " 'sanity',\n",
       " 'silence',\n",
       " 'southerly',\n",
       " 'serried',\n",
       " 'supposes',\n",
       " 'symmetrical',\n",
       " 'surprise',\n",
       " 'savageness',\n",
       " 'stayed',\n",
       " 'superfluousness',\n",
       " 'scare',\n",
       " 'sense',\n",
       " 'stiver',\n",
       " 'slily',\n",
       " 'spill',\n",
       " 'seizings',\n",
       " 'shooting',\n",
       " 'soothed',\n",
       " 'sacredness',\n",
       " 'saddle',\n",
       " 'stacked',\n",
       " 'seething',\n",
       " 'sent',\n",
       " 'sailed',\n",
       " 'solicited',\n",
       " 'scenery',\n",
       " 'scene',\n",
       " 'sung',\n",
       " 'scorchingly',\n",
       " 'scorn',\n",
       " 'spectacle',\n",
       " 'separate',\n",
       " 'scuppers',\n",
       " 'superlatively',\n",
       " 'socket',\n",
       " 'seamen',\n",
       " 'slats',\n",
       " 'singed',\n",
       " 'saving',\n",
       " 'shrivel',\n",
       " 'superinduced',\n",
       " 'smooth',\n",
       " 'screw',\n",
       " 'shutter',\n",
       " 'saltcellar',\n",
       " 'serves',\n",
       " 'swiftest',\n",
       " 'skimming',\n",
       " 'strawberries',\n",
       " 'sed',\n",
       " 'solicitudes',\n",
       " 'solace',\n",
       " 'spelling',\n",
       " 'stepping',\n",
       " 'stress',\n",
       " 'stomach',\n",
       " 'spires',\n",
       " 'sweetly',\n",
       " 'strained',\n",
       " 'standing',\n",
       " 'swaths',\n",
       " 'squared',\n",
       " 'socks',\n",
       " 'smart',\n",
       " 'serious',\n",
       " 'simultaneously',\n",
       " 'suckled',\n",
       " 'streaming',\n",
       " 'solemnly',\n",
       " 'shoulder',\n",
       " 'sweeps',\n",
       " 'solar',\n",
       " 'squatted',\n",
       " 'sled',\n",
       " 'surcoat',\n",
       " 'strange',\n",
       " 'selection',\n",
       " 'slowness',\n",
       " 'sciences',\n",
       " 'shudderings',\n",
       " 'stretched',\n",
       " 'splendors',\n",
       " 'sprout',\n",
       " 'slumbers',\n",
       " 'sauce',\n",
       " 'sad',\n",
       " 'smallness',\n",
       " 'sings',\n",
       " 'showest',\n",
       " 'signers',\n",
       " 'sending',\n",
       " 'succeeds',\n",
       " 'softest',\n",
       " 'systematically',\n",
       " 'subordinates',\n",
       " 'streamed',\n",
       " 'squid',\n",
       " 'slacked',\n",
       " 'spindle',\n",
       " 'story',\n",
       " 'slippery',\n",
       " 'symbolize',\n",
       " 'slower',\n",
       " 'stumped',\n",
       " 'sends',\n",
       " 'stepmothers',\n",
       " 'slightest',\n",
       " 'say',\n",
       " 'strong',\n",
       " 'striking',\n",
       " 'songster',\n",
       " 'shuddering',\n",
       " 'support',\n",
       " 'striven',\n",
       " 'slippered',\n",
       " 'shod',\n",
       " 'steaks',\n",
       " 'supported',\n",
       " 'speaker',\n",
       " 'seeming',\n",
       " 'supervision',\n",
       " 'shower',\n",
       " 'secrets',\n",
       " 'stove',\n",
       " 'shields',\n",
       " 'sails',\n",
       " 'shoes',\n",
       " 'snatches',\n",
       " 'scepticism',\n",
       " 'stands',\n",
       " 'sorrowful',\n",
       " 'superficial',\n",
       " 'sod',\n",
       " 'sailors',\n",
       " 'slow',\n",
       " 'spoutholes',\n",
       " 'speaking',\n",
       " 'spontaneously',\n",
       " 'sieve',\n",
       " 'separating',\n",
       " 'stars',\n",
       " 'sucking',\n",
       " 'soles',\n",
       " 'sufferings',\n",
       " 'shrines',\n",
       " 'surpassed',\n",
       " 'spavined',\n",
       " 'swore',\n",
       " 'scalping',\n",
       " 'scarcely',\n",
       " 'surging',\n",
       " 'stool',\n",
       " 'stateliest',\n",
       " 'seaman',\n",
       " 'spirit',\n",
       " 'sunny',\n",
       " 'shilling',\n",
       " 'suffered',\n",
       " 'smells',\n",
       " 'snapped',\n",
       " 'shaggy',\n",
       " 'stray',\n",
       " 'steadily',\n",
       " 'steeds',\n",
       " 'stopped',\n",
       " 'subalterns',\n",
       " 'stern',\n",
       " 'second',\n",
       " 'steerer',\n",
       " 'sartainty',\n",
       " 'strolled',\n",
       " 'star',\n",
       " 'sensibly',\n",
       " 'squally',\n",
       " 'sill',\n",
       " 'scraggy',\n",
       " 'sovereignest',\n",
       " 'sweeter',\n",
       " 'sleeping',\n",
       " 'surveying',\n",
       " 'satisfactory',\n",
       " 'superfluous',\n",
       " 'singular',\n",
       " 'survive',\n",
       " 'speed',\n",
       " 'slices',\n",
       " 'stir',\n",
       " 'sculptures',\n",
       " 'staved',\n",
       " 'sided',\n",
       " 'shuts',\n",
       " 'surmise',\n",
       " 'shrine',\n",
       " 'starred',\n",
       " 'sanctorum',\n",
       " 'spluttering',\n",
       " 'soil',\n",
       " 'sinning',\n",
       " 'sea',\n",
       " 'scores',\n",
       " 'smoothed',\n",
       " 'soul',\n",
       " 'seductive',\n",
       " 'satin',\n",
       " 'sons',\n",
       " 'systematic',\n",
       " 'slender',\n",
       " 'stratagem',\n",
       " 'speechlessly',\n",
       " 'sepulchre',\n",
       " 'strictest',\n",
       " 'sceptical',\n",
       " 'shrieking',\n",
       " 'shipyards',\n",
       " 'scrapings',\n",
       " 'signal',\n",
       " 'suburbs',\n",
       " 'solecism',\n",
       " 'stays',\n",
       " 'sports',\n",
       " 'sagged',\n",
       " 'secludedness',\n",
       " 'statistics',\n",
       " 'sinners',\n",
       " 'sublimer',\n",
       " 'spurrings',\n",
       " 'sketches',\n",
       " 'sighed',\n",
       " 'shadowed',\n",
       " 'stumbled',\n",
       " 'shattered',\n",
       " 'stereotype',\n",
       " 'seethingly',\n",
       " 'schools',\n",
       " 'stringy',\n",
       " 'shiverings',\n",
       " 'shocking',\n",
       " 'soliloquizing',\n",
       " 'skill',\n",
       " 'sleeplessness',\n",
       " 'stole',\n",
       " 'skilfully',\n",
       " 'skin',\n",
       " 'soonest',\n",
       " 'spasmodically',\n",
       " 'sultan',\n",
       " 'steeped',\n",
       " 'spring',\n",
       " 'subordinately',\n",
       " 'site',\n",
       " 'swear',\n",
       " 'stifle',\n",
       " 'snatching',\n",
       " 'speaks',\n",
       " 'shingled',\n",
       " 'strung',\n",
       " 'styled',\n",
       " 'spend',\n",
       " 'studded',\n",
       " 'section',\n",
       " 'shuffle',\n",
       " 'skulks',\n",
       " 'softener',\n",
       " 'sagacious',\n",
       " 'shrink',\n",
       " 'screwed',\n",
       " 'spose',\n",
       " 'saw',\n",
       " 'supplied',\n",
       " 'suburban',\n",
       " 'stowage',\n",
       " 'sweatings',\n",
       " 'steering',\n",
       " 'sites',\n",
       " 'sake',\n",
       " 'smacks',\n",
       " 'secretly',\n",
       " 'sought',\n",
       " 'smoked',\n",
       " 'studied',\n",
       " 'spake',\n",
       " 'snored',\n",
       " 'stirrings',\n",
       " 'suffering',\n",
       " 'scrolled',\n",
       " 'spoke',\n",
       " 'sailmakers',\n",
       " 'scolding',\n",
       " 'steadying',\n",
       " 'stript',\n",
       " 'skulls',\n",
       " 'slackened',\n",
       " 'systematizer',\n",
       " 's',\n",
       " 'sling',\n",
       " 'scoria',\n",
       " 'st',\n",
       " 'seer',\n",
       " 'sheaf',\n",
       " 'studying',\n",
       " 'store',\n",
       " 'shoots',\n",
       " 'strictly',\n",
       " 'spangling',\n",
       " 'states',\n",
       " 'staunch',\n",
       " 'security',\n",
       " 'scoured',\n",
       " 'sanely',\n",
       " 'school',\n",
       " 'sparks',\n",
       " 'symbolized',\n",
       " 'shaded',\n",
       " 'stump',\n",
       " 'serfs',\n",
       " 'surest',\n",
       " 'slobgollion',\n",
       " 'standers',\n",
       " 'slappin',\n",
       " 'snuffed',\n",
       " 'seventy',\n",
       " 'spotted',\n",
       " 'scrimps',\n",
       " 'shed',\n",
       " 'sufferable',\n",
       " 'snowhowdahed',\n",
       " 'soliloquizes',\n",
       " 'summer',\n",
       " 'superior',\n",
       " 'sire',\n",
       " 'social',\n",
       " 'shouldering',\n",
       " 'springy',\n",
       " 'stowaways',\n",
       " 'stripping',\n",
       " 'shores',\n",
       " 'se',\n",
       " 'shipmate',\n",
       " 'sinks',\n",
       " 'somerset',\n",
       " 'spreads',\n",
       " 'seals',\n",
       " 'steak',\n",
       " 'sloping',\n",
       " 'sweet',\n",
       " 'speculative',\n",
       " 'sarmon',\n",
       " 'stowed',\n",
       " 'stoneless',\n",
       " 'schoolboys',\n",
       " 'shift',\n",
       " 'skippers',\n",
       " 'swum',\n",
       " 'shield',\n",
       " 'shabbily',\n",
       " 'summary',\n",
       " 'seekest',\n",
       " 'straits',\n",
       " 'some',\n",
       " 'satins',\n",
       " 'spectre',\n",
       " 'slung',\n",
       " 'scrambled',\n",
       " 'set',\n",
       " 'seed',\n",
       " 'spearings',\n",
       " 'scrape',\n",
       " 'spiralling',\n",
       " 'supposing',\n",
       " 'scolds',\n",
       " 'sweeping',\n",
       " 'shoot',\n",
       " 'stalwart',\n",
       " 'slashing',\n",
       " 'scent',\n",
       " 'subsists',\n",
       " 'seaweed',\n",
       " 'sown',\n",
       " 'sway',\n",
       " 'suspiciously',\n",
       " 'settlements',\n",
       " 'sort',\n",
       " 'spotless',\n",
       " 'shocks',\n",
       " 'scared',\n",
       " 'sensitive',\n",
       " 'symptom',\n",
       " 'sojourning',\n",
       " 'sleepy',\n",
       " 'sallies',\n",
       " 'sup',\n",
       " 'sting',\n",
       " 'sulphur',\n",
       " 'sensations',\n",
       " 'sulks',\n",
       " 'streaked',\n",
       " 'smite',\n",
       " 'science',\n",
       " 'subtlest',\n",
       " 'skrimshandering',\n",
       " 'stated',\n",
       " 'superiors',\n",
       " 'squilgee',\n",
       " 'spirally',\n",
       " 'sleeps',\n",
       " 'slash',\n",
       " 'shrivelled',\n",
       " 'slipt',\n",
       " 'spoutings',\n",
       " 'scimetars',\n",
       " 'swam',\n",
       " 'stig',\n",
       " 'subtle',\n",
       " 'sweat',\n",
       " 'smiting',\n",
       " 'servile',\n",
       " 'starvation',\n",
       " 'slain',\n",
       " 'searching',\n",
       " 'skittishly',\n",
       " 'sexes',\n",
       " 'supremacy',\n",
       " 'suckling',\n",
       " 'sighs',\n",
       " 'smoke',\n",
       " 'scooped',\n",
       " 'symbol',\n",
       " 'score',\n",
       " 'shriek',\n",
       " 'seldom',\n",
       " 'supernatural',\n",
       " 'shudderingly',\n",
       " 'sonorous',\n",
       " 'so',\n",
       " 'succeeded',\n",
       " 'smelt',\n",
       " 'spouted',\n",
       " 'shells',\n",
       " 'suspending',\n",
       " 'slack',\n",
       " 'sets',\n",
       " 'sportsman',\n",
       " 'scamp',\n",
       " 'saying',\n",
       " 'snap',\n",
       " 'spiral',\n",
       " 'stockinged',\n",
       " 'starve',\n",
       " 'superficially',\n",
       " 'staves',\n",
       " 'sociably',\n",
       " 'summoned',\n",
       " 'senior',\n",
       " 'smallest',\n",
       " 'solitudes',\n",
       " 'selling',\n",
       " 'sounded',\n",
       " 'solve',\n",
       " 'slavish',\n",
       " 'smiling',\n",
       " 'stiff',\n",
       " 'substantive',\n",
       " 'spurred',\n",
       " 'starting',\n",
       " 'smites',\n",
       " 'scornfully',\n",
       " 'seeking',\n",
       " 'shallow',\n",
       " 'shivering',\n",
       " 'sixteenth',\n",
       " 'soothing',\n",
       " 'smoky',\n",
       " 'spout',\n",
       " 'stealthily',\n",
       " 'serve',\n",
       " 'sideways',\n",
       " 'shops',\n",
       " 'solaces',\n",
       " 'spare',\n",
       " 'smothered',\n",
       " 'slight',\n",
       " 'shuttle',\n",
       " 'steeply',\n",
       " 'succourless',\n",
       " 'stained',\n",
       " 'shirts',\n",
       " 'slaughter',\n",
       " 'suggestiveness',\n",
       " 'sheathed',\n",
       " 'surface',\n",
       " 'southern',\n",
       " 'struggle',\n",
       " 'senseless',\n",
       " 'sleepiest',\n",
       " 'specialities',\n",
       " 'scuttle',\n",
       " 'spigot',\n",
       " 'system',\n",
       " 'suspends',\n",
       " 'sensible',\n",
       " 'slides',\n",
       " 'stilly',\n",
       " 'scrawl',\n",
       " 'seizing',\n",
       " 'sands',\n",
       " 'stammer',\n",
       " 'spanned',\n",
       " 'surely',\n",
       " 'superlative',\n",
       " 'slantings',\n",
       " 'separable',\n",
       " 'sayest',\n",
       " 'streets',\n",
       " 'strand',\n",
       " 'spray',\n",
       " 'strikes',\n",
       " 'sneering',\n",
       " 'since',\n",
       " 'sharkish',\n",
       " 'sell',\n",
       " 'stalls',\n",
       " 'sun',\n",
       " 'suffocated',\n",
       " 'surrounding',\n",
       " 'submarine',\n",
       " 'snaky',\n",
       " 'suspect',\n",
       " 'sitting',\n",
       " 'substantiate',\n",
       " 'sharppointed',\n",
       " 'storms',\n",
       " 'sobbing',\n",
       " 'soever',\n",
       " 'spilled',\n",
       " 'spiles',\n",
       " 'sawn',\n",
       " 'sold',\n",
       " 'successively',\n",
       " 'subsided',\n",
       " 'shadowy',\n",
       " 'strait',\n",
       " 'sinewing',\n",
       " 'slacken',\n",
       " 'stake',\n",
       " 'slogan',\n",
       " 'spot',\n",
       " 'sprain',\n",
       " 'shrill',\n",
       " 'shipmates',\n",
       " 'surly',\n",
       " 'stunsails',\n",
       " 'sometimes',\n",
       " 'subsequently',\n",
       " 'sterned',\n",
       " 'spins',\n",
       " 'swooping',\n",
       " 'simply',\n",
       " 'speechless',\n",
       " 'simple',\n",
       " 'secure',\n",
       " 'squitchy',\n",
       " 'salutations',\n",
       " 'spicin',\n",
       " 'scales',\n",
       " 'scratch',\n",
       " 'send',\n",
       " 'shadow',\n",
       " 'spice',\n",
       " 'steward',\n",
       " 'sheep',\n",
       " 'subtleties',\n",
       " 'spiralized',\n",
       " 'strangeness',\n",
       " 'stride',\n",
       " 'show',\n",
       " 'sued',\n",
       " 'stiffen',\n",
       " 'scarcity',\n",
       " 'splash',\n",
       " 'stubbing',\n",
       " 'solved',\n",
       " 'schooners',\n",
       " 'skiff',\n",
       " 'schooner',\n",
       " 'shake',\n",
       " 'shouted',\n",
       " 'sultry',\n",
       " 'sleepe',\n",
       " 'scupper',\n",
       " 'shortest',\n",
       " 'spiced',\n",
       " 'salt',\n",
       " 'stay',\n",
       " 'successful',\n",
       " 'swayings',\n",
       " 'space',\n",
       " 'surrounds',\n",
       " 'submits',\n",
       " 'stem',\n",
       " 'stall',\n",
       " 'slavery',\n",
       " 'shad',\n",
       " 'sabbee',\n",
       " 'strips',\n",
       " 'superiority',\n",
       " 'scar',\n",
       " 'sunrise',\n",
       " 'stead',\n",
       " 'screamed',\n",
       " 'stifled',\n",
       " 'sacramental',\n",
       " 'smothering',\n",
       " 'strives',\n",
       " 'sleepless',\n",
       " 'sublimity',\n",
       " 'separated',\n",
       " 'strife',\n",
       " 'siskur',\n",
       " 'stubbornness',\n",
       " 'selves',\n",
       " 'sylphs',\n",
       " 'sogger',\n",
       " 'sentinels',\n",
       " 'satisfied',\n",
       " 'spread',\n",
       " 'sex',\n",
       " 'shutters',\n",
       " 'student',\n",
       " 'sheer',\n",
       " 'staggering',\n",
       " 'sidelingly',\n",
       " 'solicitude',\n",
       " 'solitaries',\n",
       " 'shades',\n",
       " 'sir',\n",
       " 'shortly',\n",
       " 'sing',\n",
       " 'shrinked',\n",
       " 'stakes',\n",
       " 'supply',\n",
       " 'straw',\n",
       " 'sullenly',\n",
       " 'squeezed',\n",
       " 'shows',\n",
       " 'stark',\n",
       " 'shoving',\n",
       " 'swarmed',\n",
       " 'scrupulous',\n",
       " 'stumbling',\n",
       " 'selected',\n",
       " 'sorry',\n",
       " 'sideboard',\n",
       " 'snows',\n",
       " 'shoulders',\n",
       " 'spleen',\n",
       " 'smeer',\n",
       " 'sceptre',\n",
       " 'sloped',\n",
       " 'shooks',\n",
       " 'starboard',\n",
       " 'scorched',\n",
       " 'sallow',\n",
       " 'standpoint',\n",
       " 'slumberers',\n",
       " 'squatting',\n",
       " 'stampedoes',\n",
       " 'snuffers',\n",
       " 'shipped',\n",
       " 'sprang',\n",
       " 'seem',\n",
       " 'swarming',\n",
       " 'steeple',\n",
       " 'soliloquized',\n",
       " 'sounding',\n",
       " 'sincerity',\n",
       " 'sorcery',\n",
       " 'sunshine',\n",
       " 'specimen',\n",
       " 'surveillance',\n",
       " 'smack',\n",
       " 'sturgeon',\n",
       " 'studious',\n",
       " 'slews',\n",
       " 'similes',\n",
       " 'spiralise',\n",
       " 'spoiling',\n",
       " 'solemn',\n",
       " 'stormy',\n",
       " 'soften',\n",
       " 'sank',\n",
       " 'suddenness',\n",
       " 'starlight',\n",
       " 'starts',\n",
       " 'specimens',\n",
       " 'spiked',\n",
       " 'scorching',\n",
       " 'surpasses',\n",
       " 'sickle',\n",
       " 'safely',\n",
       " 'suffice',\n",
       " 'swashing',\n",
       " 'something',\n",
       " 'seethed',\n",
       " 'sinker',\n",
       " 'start',\n",
       " 'speech',\n",
       " 'shell',\n",
       " 'sartin',\n",
       " 'struggling',\n",
       " 'soldier',\n",
       " 'statue',\n",
       " 'spells',\n",
       " 'seek',\n",
       " 'says',\n",
       " 'sparing',\n",
       " 'snatch',\n",
       " 'systematization',\n",
       " 'spurned',\n",
       " 'suspense',\n",
       " 'swimmer',\n",
       " 'straight',\n",
       " 'suspected',\n",
       " 'sloop',\n",
       " 'serpentine',\n",
       " 'spies',\n",
       " 'succeeding',\n",
       " 'smitten',\n",
       " 'sleeper',\n",
       " 'silken',\n",
       " 'sucklings',\n",
       " 'scrutiny',\n",
       " 'shuttlecock',\n",
       " 'sterns',\n",
       " 'spurs',\n",
       " 'surrenderest',\n",
       " 'scabbards',\n",
       " 'spat',\n",
       " 'saved',\n",
       " 'spent',\n",
       " 'splits',\n",
       " 'stirs',\n",
       " 'surpass',\n",
       " 'stocks',\n",
       " 'stooped',\n",
       " 'sweetest',\n",
       " 'stricken',\n",
       " 'squattings',\n",
       " 'scars',\n",
       " 'speedy',\n",
       " 'stabs',\n",
       " 'safe',\n",
       " 'subscribes',\n",
       " 'scrouge',\n",
       " 'scratched',\n",
       " 'slippering',\n",
       " 'sleeves',\n",
       " 'smaller',\n",
       " 'seated',\n",
       " 'succor',\n",
       " 'sinews',\n",
       " 'smacking',\n",
       " 'seasons',\n",
       " 'savory',\n",
       " 'samphire',\n",
       " 'semiweekly',\n",
       " 'shaping',\n",
       " 'surviving',\n",
       " 'stoven',\n",
       " 'spite',\n",
       " 'sentimental',\n",
       " 'statements',\n",
       " 'savor',\n",
       " 'stolidity',\n",
       " 'somnambulisms',\n",
       " 'swiftness',\n",
       " ...]"
      ]
     },
     "execution_count": 38,
     "metadata": {},
     "output_type": "execute_result"
    }
   ],
   "source": [
    "start"
   ]
  },
  {
   "cell_type": "code",
   "execution_count": 39,
   "metadata": {},
   "outputs": [],
   "source": [
    "freq= nltk.FreqDist(text1)"
   ]
  },
  {
   "cell_type": "code",
   "execution_count": 40,
   "metadata": {},
   "outputs": [
    {
     "data": {
      "text/plain": [
       "nltk.probability.FreqDist"
      ]
     },
     "execution_count": 40,
     "metadata": {},
     "output_type": "execute_result"
    }
   ],
   "source": [
    "type(freq)"
   ]
  },
  {
   "cell_type": "code",
   "execution_count": 41,
   "metadata": {},
   "outputs": [
    {
     "data": {
      "text/plain": [
       "FreqDist({',': 18713, 'the': 13721, '.': 6862, 'of': 6536, 'and': 6024, 'a': 4569, 'to': 4542, ';': 4072, 'in': 3916, 'that': 2982, ...})"
      ]
     },
     "execution_count": 41,
     "metadata": {},
     "output_type": "execute_result"
    }
   ],
   "source": [
    "freq"
   ]
  },
  {
   "cell_type": "code",
   "execution_count": 42,
   "metadata": {},
   "outputs": [
    {
     "data": {
      "text/plain": [
       "[(',', 18713),\n",
       " ('the', 13721),\n",
       " ('.', 6862),\n",
       " ('of', 6536),\n",
       " ('and', 6024),\n",
       " ('a', 4569),\n",
       " ('to', 4542),\n",
       " (';', 4072),\n",
       " ('in', 3916),\n",
       " ('that', 2982)]"
      ]
     },
     "execution_count": 42,
     "metadata": {},
     "output_type": "execute_result"
    }
   ],
   "source": [
    "freq.most_common(10)"
   ]
  },
  {
   "cell_type": "code",
   "execution_count": 43,
   "metadata": {},
   "outputs": [
    {
     "data": {
      "text/plain": [
       "7"
      ]
     },
     "execution_count": 43,
     "metadata": {},
     "output_type": "execute_result"
    }
   ],
   "source": [
    "freq['Sunday']"
   ]
  },
  {
   "cell_type": "code",
   "execution_count": 44,
   "metadata": {},
   "outputs": [],
   "source": [
    "from nltk.book import text6"
   ]
  },
  {
   "cell_type": "code",
   "execution_count": 45,
   "metadata": {},
   "outputs": [],
   "source": [
    "unique=set(text6)"
   ]
  },
  {
   "cell_type": "code",
   "execution_count": 78,
   "metadata": {},
   "outputs": [
    {
     "name": "stdout",
     "output_type": "stream",
     "text": [
      "wise; wise; apologise; surprise; surprise; surprise; noise; surprise\n"
     ]
    },
    {
     "ename": "TypeError",
     "evalue": "'NoneType' object is not iterable",
     "output_type": "error",
     "traceback": [
      "\u001b[1;31m---------------------------------------------------------------------------\u001b[0m",
      "\u001b[1;31mTypeError\u001b[0m                                 Traceback (most recent call last)",
      "\u001b[1;32m<ipython-input-78-b0b26b8912ce>\u001b[0m in \u001b[0;36m<module>\u001b[1;34m()\u001b[0m\n\u001b[1;32m----> 1\u001b[1;33m \u001b[0mlist\u001b[0m\u001b[1;33m(\u001b[0m\u001b[0mtext6\u001b[0m\u001b[1;33m.\u001b[0m\u001b[0mfindall\u001b[0m\u001b[1;33m(\u001b[0m\u001b[1;34m\"<.*ise>\"\u001b[0m\u001b[1;33m)\u001b[0m\u001b[1;33m)\u001b[0m\u001b[1;33m\u001b[0m\u001b[0m\n\u001b[0m",
      "\u001b[1;31mTypeError\u001b[0m: 'NoneType' object is not iterable"
     ]
    }
   ],
   "source": [
    "list(text6.findall(\"<.*ise>\"))"
   ]
  },
  {
   "cell_type": "code",
   "execution_count": 70,
   "metadata": {},
   "outputs": [
    {
     "ename": "TypeError",
     "evalue": "'NoneType' object is not iterable",
     "output_type": "error",
     "traceback": [
      "\u001b[1;31m---------------------------------------------------------------------------\u001b[0m",
      "\u001b[1;31mTypeError\u001b[0m                                 Traceback (most recent call last)",
      "\u001b[1;32m<ipython-input-70-7e8a765a0d5a>\u001b[0m in \u001b[0;36m<module>\u001b[1;34m()\u001b[0m\n\u001b[1;32m----> 1\u001b[1;33m \u001b[0mset\u001b[0m\u001b[1;33m(\u001b[0m\u001b[0mk\u001b[0m\u001b[1;33m)\u001b[0m\u001b[1;33m\u001b[0m\u001b[0m\n\u001b[0m",
      "\u001b[1;31mTypeError\u001b[0m: 'NoneType' object is not iterable"
     ]
    }
   ],
   "source": [
    "set(k)"
   ]
  },
  {
   "cell_type": "code",
   "execution_count": 64,
   "metadata": {},
   "outputs": [],
   "source": [
    "count=0\n",
    "for word in ise_ending_words:\n",
    "    if word=='True':\n",
    "        count=count+1;"
   ]
  },
  {
   "cell_type": "code",
   "execution_count": 65,
   "metadata": {},
   "outputs": [
    {
     "data": {
      "text/plain": [
       "0"
      ]
     },
     "execution_count": 65,
     "metadata": {},
     "output_type": "execute_result"
    }
   ],
   "source": [
    "count"
   ]
  },
  {
   "cell_type": "code",
   "execution_count": 57,
   "metadata": {},
   "outputs": [],
   "source": [
    "ise=[word for word in text6 if word.endswith('ise')=='True']"
   ]
  },
  {
   "cell_type": "code",
   "execution_count": 58,
   "metadata": {},
   "outputs": [
    {
     "data": {
      "text/plain": [
       "[]"
      ]
     },
     "execution_count": 58,
     "metadata": {},
     "output_type": "execute_result"
    }
   ],
   "source": [
    "ise"
   ]
  },
  {
   "cell_type": "code",
   "execution_count": 80,
   "metadata": {},
   "outputs": [
    {
     "name": "stdout",
     "output_type": "stream",
     "text": [
      "wise; wise; apologise; surprise; surprise; surprise; noise; surprise\n"
     ]
    }
   ],
   "source": [
    "tokens=text6.findall(\"<.*ise>\")"
   ]
  },
  {
   "cell_type": "code",
   "execution_count": 83,
   "metadata": {},
   "outputs": [],
   "source": [
    "tokens"
   ]
  },
  {
   "cell_type": "code",
   "execution_count": 82,
   "metadata": {},
   "outputs": [],
   "source": []
  },
  {
   "cell_type": "code",
   "execution_count": null,
   "metadata": {},
   "outputs": [],
   "source": []
  }
 ],
 "metadata": {
  "kernelspec": {
   "display_name": "Python 3",
   "language": "python",
   "name": "python3"
  },
  "language_info": {
   "codemirror_mode": {
    "name": "ipython",
    "version": 3
   },
   "file_extension": ".py",
   "mimetype": "text/x-python",
   "name": "python",
   "nbconvert_exporter": "python",
   "pygments_lexer": "ipython3",
   "version": "3.6.5"
  }
 },
 "nbformat": 4,
 "nbformat_minor": 2
}
